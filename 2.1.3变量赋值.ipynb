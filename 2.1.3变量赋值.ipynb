{
 "cells": [
  {
   "cell_type": "code",
   "execution_count": null,
   "metadata": {},
   "outputs": [],
   "source": [
    "# 变量赋值\n",
    "\n",
    "\"\"\"\n",
    "我第一次接触Python里的变量赋值的时候，整个人都惊呆了。当时脑海里就一个念头\n",
    "\n",
    "🤩，还可以这么玩的吗？\n",
    "\"\"\""
   ]
  },
  {
   "cell_type": "code",
   "execution_count": 1,
   "metadata": {},
   "outputs": [],
   "source": [
    "# 常规赋值\n",
    "\n",
    "name = \"郭老师\"\n",
    "age  = 25\n"
   ]
  },
  {
   "cell_type": "code",
   "execution_count": null,
   "metadata": {},
   "outputs": [],
   "source": [
    "# 多数赋值\n",
    "name, age = \"郭老师\", 25"
   ]
  },
  {
   "cell_type": "code",
   "execution_count": null,
   "metadata": {},
   "outputs": [],
   "source": [
    "\"\"\"\n",
    "好啦，例子看完了，接下来咱们讲点正式的内容。\n",
    "\"\"\""
   ]
  },
  {
   "cell_type": "code",
   "execution_count": 3,
   "metadata": {},
   "outputs": [
    {
     "ename": "NameError",
     "evalue": "name 'school' is not defined",
     "output_type": "error",
     "traceback": [
      "\u001b[0;31m---------------------------------------------------------------------------\u001b[0m",
      "\u001b[0;31mNameError\u001b[0m                                 Traceback (most recent call last)",
      "\u001b[0;32m<ipython-input-3-2694e53f3c57>\u001b[0m in \u001b[0;36m<module>\u001b[0;34m()\u001b[0m\n\u001b[1;32m      7\u001b[0m \"\"\"\n\u001b[1;32m      8\u001b[0m \u001b[0;34m\u001b[0m\u001b[0m\n\u001b[0;32m----> 9\u001b[0;31m \u001b[0mprint\u001b[0m\u001b[0;34m(\u001b[0m\u001b[0mschool\u001b[0m\u001b[0;34m)\u001b[0m\u001b[0;34m\u001b[0m\u001b[0;34m\u001b[0m\u001b[0m\n\u001b[0m",
      "\u001b[0;31mNameError\u001b[0m: name 'school' is not defined"
     ]
    }
   ],
   "source": [
    "# 每个变量在使用前都必须赋值，变量赋值以后该变量才会被创建。\n",
    "\n",
    "\"\"\"\n",
    "这句话是什么意思呢？\n",
    "\n",
    "就是我们在使用一个变量的时候，必须先对其进行赋值操作。不太好理解的话，咱们来看个例子，保准一看就会。\n",
    "\"\"\"\n",
    "\n",
    "print(school)"
   ]
  },
  {
   "cell_type": "code",
   "execution_count": 4,
   "metadata": {},
   "outputs": [
    {
     "name": "stdout",
     "output_type": "stream",
     "text": [
      "Hello Python.\n"
     ]
    }
   ],
   "source": [
    "\"\"\"\n",
    "看到了吧，我们事先没有对school进行赋值操作，所以代码运行的时候就会报出“name 'school' is not defined”\n",
    "\n",
    "那如果我们提前进行了变量的赋值操作，是不是就可以了呢？答案是：对的。\n",
    "\"\"\"\n",
    "name = \"Hello Python.\"\n",
    "print(name)"
   ]
  },
  {
   "cell_type": "code",
   "execution_count": 6,
   "metadata": {},
   "outputs": [
    {
     "name": "stdout",
     "output_type": "stream",
     "text": [
      "tiger\n",
      "25\n",
      "学院路38号\n"
     ]
    }
   ],
   "source": [
    "\"\"\"\n",
    "注意事项：\n",
    "  \n",
    "  最后再来啰嗦几句，Python语言是一门动态语言（可以先不管什么是静态语言，什么是动态语言哈），也就是说一个变量可以被多次赋值，即便\n",
    "  被赋值的数据类型每次都不一样，所以写代码的时候一定要认真想想，当前某个变量代表的是什么哟。\n",
    "  \n",
    "  数据类型的内容我们下节会讲述，敬请期待😁\n",
    "\"\"\"\n",
    "variable = \"tiger\"\n",
    "print(variable)\n",
    "variable = 25\n",
    "print(variable)\n",
    "variable = \"学院路38号\"\n",
    "print(variable)\n"
   ]
  }
 ],
 "metadata": {
  "kernelspec": {
   "display_name": "Python 3",
   "language": "python",
   "name": "python3"
  },
  "language_info": {
   "codemirror_mode": {
    "name": "ipython",
    "version": 3
   },
   "file_extension": ".py",
   "mimetype": "text/x-python",
   "name": "python",
   "nbconvert_exporter": "python",
   "pygments_lexer": "ipython3",
   "version": "3.7.3"
  }
 },
 "nbformat": 4,
 "nbformat_minor": 2
}

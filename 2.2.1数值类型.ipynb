{
 "cells": [
  {
   "cell_type": "code",
   "execution_count": 1,
   "metadata": {},
   "outputs": [
    {
     "name": "stdout",
     "output_type": "stream",
     "text": [
      "4299912032\n",
      "4299912064\n"
     ]
    }
   ],
   "source": [
    "# 数据类型是不允许改变的,这就意味着如果改变 Number 数据类型的值，将重新分配内存空间。\n",
    "\n",
    "\"\"\"\n",
    "在显示世界中，我们找一个人可以通过身份证号码来唯一确认这个人是谁，在Python中，我们会使用一个叫 `id(variable_name)`的方法\n",
    "来查看这个variable_name在计算机的哪块位置藏着。\n",
    "\n",
    "\"\"\"\n",
    "\n",
    "age = 24\n",
    "print(id(age))\n",
    "age = 25\n",
    "print(id(age))"
   ]
  },
  {
   "cell_type": "code",
   "execution_count": null,
   "metadata": {},
   "outputs": [],
   "source": [
    "\"\"\"\n",
    "从输出的数字中我们可以看出，age的位置发生了变化，这也同时验证了：如果改变了变量的值，变量的内存地址也会被重新分配。\n",
    "\"\"\""
   ]
  },
  {
   "cell_type": "code",
   "execution_count": null,
   "metadata": {},
   "outputs": [],
   "source": [
    "\"\"\"\n",
    "在Python语言中，数值类型是一个统称，实际上它还有好多的小分类。\n",
    "\n",
    "1. 整形\n",
    "2. 长整型\n",
    "3. 浮点型\n",
    "4. 复数类型\n",
    "\n",
    "下面我们一个个来瞅下，混个脸熟。\n",
    "\"\"\""
   ]
  },
  {
   "cell_type": "code",
   "execution_count": null,
   "metadata": {},
   "outputs": [],
   "source": [
    "# 整形\n",
    "\n",
    "\"\"\"\n",
    "通常被称为是整型或整数，是正或负整数，不带小数点。\n",
    "\"\"\"\n",
    "columns = 10\n",
    "age = 25\n",
    "blocks = 32"
   ]
  },
  {
   "cell_type": "code",
   "execution_count": null,
   "metadata": {},
   "outputs": [],
   "source": [
    "# 长整型\n",
    "\n",
    "\"\"\"\n",
    "顾名思义，就是一个很长的整数。\n",
    "\n",
    "更科学点垫江，是无限大小的整数，整数最后是一个大写或小写的L。\n",
    "\"\"\"\n",
    "money = 51924361L\n",
    "salary = 8283743743747843237237384894847845745785347835478575478534457854784554785475347834384384323L"
   ]
  },
  {
   "cell_type": "code",
   "execution_count": null,
   "metadata": {},
   "outputs": [],
   "source": [
    "# 浮点型\n",
    "\n",
    "\"\"\"\n",
    "按我的理解，想象成小数就可以了。\n",
    "\n",
    "官方点的讲解为：\n",
    "    浮点型由整数部分与小数部分组成，浮点型也可以使用科学计数法表示（2.5e2 = 2.5 x 102 = 250）\n",
    "\"\"\"\n",
    "\n",
    "hours = 1.5\n",
    "percentage = 0.66\n",
    "variable = 32.3+e18"
   ]
  },
  {
   "cell_type": "code",
   "execution_count": null,
   "metadata": {},
   "outputs": [],
   "source": [
    "# 复数类型\n",
    "\n",
    "\"\"\"\n",
    "这个类型可真的太少见了，毕竟我不是做科学计算相关的，所以很少会遇到。我对它的第一印象就是：\n",
    "    一个数和另一个带i的数字组合而成的。\n",
    "\n",
    "科学点的解释是：\n",
    "    复数由实数部分和虚数部分构成，可以用a + bj,或者complex(a,b)表示， 复数的实部a和虚部b都是浮点型。\n",
    "\"\"\"\n",
    "variable = 1 + 2i\n",
    "variable = 3 - i"
   ]
  },
  {
   "cell_type": "code",
   "execution_count": 2,
   "metadata": {},
   "outputs": [
    {
     "name": "stdout",
     "output_type": "stream",
     "text": [
      "当前年龄为： 24.3\n",
      "当前年龄为： 24\n"
     ]
    }
   ],
   "source": [
    "# 类型转换\n",
    "\n",
    "\"\"\"\n",
    "有这么多的数据类型，有时候不可避免的想转成特定的数据类型。比如你现在是24.3岁，要转成整数，那你现在就是24岁。这就涉及到了\n",
    "\n",
    "浮点型数据转换成整数型数据，我们可以使用int(variable_name) 来实现\n",
    "\"\"\"\n",
    "name = 24.3\n",
    "print(\"当前年龄为：\", name)\n",
    "name = int(name)\n",
    "print(\"当前年龄为：\", name)"
   ]
  },
  {
   "cell_type": "code",
   "execution_count": null,
   "metadata": {},
   "outputs": [],
   "source": [
    "\"\"\"\n",
    "与此场景类似，还有很多个类型转换的方法，这里咱们就列举下，不举实际的代码例子了。\n",
    "等以后用到了，直接用搜索引擎查找就好啦。\n",
    "\n",
    "int(x [,base ])         将x转换为一个整数  \n",
    "long(x [,base ])        将x转换为一个长整数  \n",
    "float(x )               将x转换到一个浮点数  \n",
    "complex(real [,imag ])  创建一个复数  \n",
    "str(x )                 将对象 x 转换为字符串  \n",
    "repr(x )                将对象 x 转换为表达式字符串  \n",
    "eval(str )              用来计算在字符串中的有效Python表达式,并返回一个对象  \n",
    "tuple(s )               将序列 s 转换为一个元组  \n",
    "list(s )                将序列 s 转换为一个列表  \n",
    "chr(x )                 将一个整数转换为一个字符  \n",
    "unichr(x )              将一个整数转换为Unicode字符  \n",
    "ord(x )                 将一个字符转换为它的整数值  \n",
    "hex(x )                 将一个整数转换为一个十六进制字符串  \n",
    "oct(x )                 将一个整数转换为一个八进制字符串  \n",
    "\"\"\""
   ]
  },
  {
   "cell_type": "code",
   "execution_count": 3,
   "metadata": {},
   "outputs": [
    {
     "data": {
      "text/plain": [
       "['__doc__',\n",
       " '__file__',\n",
       " '__loader__',\n",
       " '__name__',\n",
       " '__package__',\n",
       " '__spec__',\n",
       " 'acos',\n",
       " 'acosh',\n",
       " 'asin',\n",
       " 'asinh',\n",
       " 'atan',\n",
       " 'atan2',\n",
       " 'atanh',\n",
       " 'ceil',\n",
       " 'copysign',\n",
       " 'cos',\n",
       " 'cosh',\n",
       " 'degrees',\n",
       " 'e',\n",
       " 'erf',\n",
       " 'erfc',\n",
       " 'exp',\n",
       " 'expm1',\n",
       " 'fabs',\n",
       " 'factorial',\n",
       " 'floor',\n",
       " 'fmod',\n",
       " 'frexp',\n",
       " 'fsum',\n",
       " 'gamma',\n",
       " 'gcd',\n",
       " 'hypot',\n",
       " 'inf',\n",
       " 'isclose',\n",
       " 'isfinite',\n",
       " 'isinf',\n",
       " 'isnan',\n",
       " 'ldexp',\n",
       " 'lgamma',\n",
       " 'log',\n",
       " 'log10',\n",
       " 'log1p',\n",
       " 'log2',\n",
       " 'modf',\n",
       " 'nan',\n",
       " 'pi',\n",
       " 'pow',\n",
       " 'radians',\n",
       " 'remainder',\n",
       " 'sin',\n",
       " 'sinh',\n",
       " 'sqrt',\n",
       " 'tan',\n",
       " 'tanh',\n",
       " 'tau',\n",
       " 'trunc']"
      ]
     },
     "execution_count": 3,
     "metadata": {},
     "output_type": "execute_result"
    }
   ],
   "source": [
    "# 涉及数值类型计算的函数\n",
    "\n",
    "\"\"\"\n",
    "数值类型一直是所有程序语言处理的核心，Python作为数据科学语言的首选语言，也不例外。\n",
    "\n",
    "在Python的标准库math, cmath中，就存在很多的方法是涉及数学计算的。我们可以用如下代码进行查看。\n",
    "\n",
    "\"\"\"\n",
    "\n",
    "import math\n",
    "dir(math)"
   ]
  },
  {
   "cell_type": "code",
   "execution_count": 4,
   "metadata": {},
   "outputs": [
    {
     "data": {
      "text/plain": [
       "['__doc__',\n",
       " '__file__',\n",
       " '__loader__',\n",
       " '__name__',\n",
       " '__package__',\n",
       " '__spec__',\n",
       " 'acos',\n",
       " 'acosh',\n",
       " 'asin',\n",
       " 'asinh',\n",
       " 'atan',\n",
       " 'atanh',\n",
       " 'cos',\n",
       " 'cosh',\n",
       " 'e',\n",
       " 'exp',\n",
       " 'inf',\n",
       " 'infj',\n",
       " 'isclose',\n",
       " 'isfinite',\n",
       " 'isinf',\n",
       " 'isnan',\n",
       " 'log',\n",
       " 'log10',\n",
       " 'nan',\n",
       " 'nanj',\n",
       " 'phase',\n",
       " 'pi',\n",
       " 'polar',\n",
       " 'rect',\n",
       " 'sin',\n",
       " 'sinh',\n",
       " 'sqrt',\n",
       " 'tan',\n",
       " 'tanh',\n",
       " 'tau']"
      ]
     },
     "execution_count": 4,
     "metadata": {},
     "output_type": "execute_result"
    }
   ],
   "source": [
    "import cmath\n",
    "dir(cmath)"
   ]
  },
  {
   "cell_type": "code",
   "execution_count": 8,
   "metadata": {},
   "outputs": [
    {
     "name": "stdout",
     "output_type": "stream",
     "text": [
      "Help on built-in function pow in module math:\n",
      "\n",
      "pow(x, y, /)\n",
      "    Return x**y (x to the power of y).\n",
      "\n"
     ]
    }
   ],
   "source": [
    "\"\"\"\n",
    "是不是有一种晕头转向的感觉，这么多的方法，我咋知道怎么用？\n",
    "\n",
    "好的，接下来就让郭老师教你一招。\n",
    "\"\"\"\n",
    "\n",
    "help(math.pow)"
   ]
  },
  {
   "cell_type": "code",
   "execution_count": 10,
   "metadata": {},
   "outputs": [
    {
     "name": "stdout",
     "output_type": "stream",
     "text": [
      "Help on built-in function exp in module cmath:\n",
      "\n",
      "exp(z, /)\n",
      "    Return the exponential value e**z.\n",
      "\n"
     ]
    }
   ],
   "source": [
    "# 再来一个试试\n",
    "help(cmath.exp)"
   ]
  },
  {
   "cell_type": "code",
   "execution_count": null,
   "metadata": {},
   "outputs": [],
   "source": [
    "\"\"\"\n",
    "咋样，好用吧。顺便还能锻炼锻炼英语呢。\n",
    "\"\"\""
   ]
  }
 ],
 "metadata": {
  "kernelspec": {
   "display_name": "Python 3",
   "language": "python",
   "name": "python3"
  },
  "language_info": {
   "codemirror_mode": {
    "name": "ipython",
    "version": 3
   },
   "file_extension": ".py",
   "mimetype": "text/x-python",
   "name": "python",
   "nbconvert_exporter": "python",
   "pygments_lexer": "ipython3",
   "version": "3.7.3"
  }
 },
 "nbformat": 4,
 "nbformat_minor": 2
}

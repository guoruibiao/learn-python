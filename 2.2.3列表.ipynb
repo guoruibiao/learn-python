{
 "cells": [
  {
   "cell_type": "code",
   "execution_count": null,
   "metadata": {},
   "outputs": [],
   "source": [
    "# 列表类型\n",
    "\n",
    "\"\"\"\n",
    "小时候上体育课，老师总会让我们排队，然后报数，看看人数够不够。而Python中，也有这么一个数据类型，我们叫它为”列表“，有的地方也叫它：序列。\n",
    "\n",
    "我们报数的时候，总是1、2、3、4、5、6、7、8、9... 从数字1开始。然后问题就来了，在编程语言中，大部分对于列表类型的”报数“，都是从0开始的，\n",
    "比如：0、1、2、3、4、5、6、7、8、9... \n",
    "\n",
    "这是我们需要注意的地方。\n",
    "\"\"\""
   ]
  },
  {
   "cell_type": "code",
   "execution_count": null,
   "metadata": {},
   "outputs": [],
   "source": [
    "# 如何创建一个列表类型的变量\n",
    "\n",
    "list = [\"a\", \"bc\", \"dsdsadsadsass\", 7]\n",
    "\n",
    "\"\"\"\n",
    "可以看出来，定义一个列表类型的变量，我们就只需要把一些数据扔到 [] 这个中括号里面就好了。\n",
    "\n",
    "是的，定义一个列表变量就是这么简单呢。\n",
    "\"\"\""
   ]
  },
  {
   "cell_type": "code",
   "execution_count": 2,
   "metadata": {},
   "outputs": [
    {
     "name": "stdout",
     "output_type": "stream",
     "text": [
      "['这是一个字符串', 123, 123.456, 23232434343643643546354364534, True, False]\n"
     ]
    }
   ],
   "source": [
    "# 特点\n",
    "\n",
    "\"\"\"\n",
    "回忆一下，地铁口总有一个检查违禁物品的装置，书包放上去，经过检测就从后面的传送带给传送出来了。传送带上有的人拿书包，有的人拿衣服，有的人\n",
    "拿箱子... 总之是五花八门，各式各样。\n",
    "\n",
    "列表类型就像是这个传送带，里面可以存储各种各样类型的数据，有整形，字符串，列表，字典，元组等等。\n",
    "\"\"\"\n",
    "\n",
    "list = [\"这是一个字符串\", 123, 123.456, 23232434343643643546354364534, True, False, ]\n",
    "print(list)"
   ]
  },
  {
   "cell_type": "code",
   "execution_count": 3,
   "metadata": {},
   "outputs": [
    {
     "name": "stdout",
     "output_type": "stream",
     "text": [
      "这是一个字符串\n"
     ]
    }
   ],
   "source": [
    "\"\"\"\n",
    "然后我们要瞅瞅列表里的第一个元素是谁，就可以用 list[0]这种方式去拿到啦。\n",
    "\"\"\"\n",
    "list = [\"这是一个字符串\", 123, 123.456, 23232434343643643546354364534, True, False, ]\n",
    "print(list[0])"
   ]
  },
  {
   "cell_type": "code",
   "execution_count": 4,
   "metadata": {},
   "outputs": [
    {
     "name": "stdout",
     "output_type": "stream",
     "text": [
      "123\n",
      "123.456\n"
     ]
    }
   ],
   "source": [
    "\"\"\"\n",
    "看得出[] 这个中括号里面的数字，就是我们获取列表内元素数据的 ”指路明灯“。下面我们看看第二个元素、第三个元素是什么吧。\n",
    "\"\"\"\n",
    "# 定义一个列表\n",
    "list = [\"这是一个字符串\", 123, 123.456, 23232434343643643546354364534, True, False, ]\n",
    "\n",
    "# 获取第二个元素 list[1]\n",
    "print(list[1])\n",
    "\n",
    "# 获取第三个元素 list[2]\n",
    "print(list[2])"
   ]
  },
  {
   "cell_type": "code",
   "execution_count": 5,
   "metadata": {},
   "outputs": [
    {
     "name": "stdout",
     "output_type": "stream",
     "text": [
      "6\n"
     ]
    }
   ],
   "source": [
    "\"\"\"\n",
    "嘿嘿，还真的是方便呢。那你要说我要拿最后一个元素，是不是得先找到那个下标，然后用：list[下标数字]的方式去获取呢？\n",
    "\n",
    "当然可以啦，但是咱可不手动去数数，那样太累了。我们可以用 len(list_name) 这个函数，让它去帮我们数数。\n",
    "\"\"\"\n",
    "list = [\"这是一个字符串\", 123, 123.456, 23232434343643643546354364534, True, False, ]\n",
    "number_of_list = len(list)\n",
    "print(number_of_list)"
   ]
  },
  {
   "cell_type": "code",
   "execution_count": 6,
   "metadata": {},
   "outputs": [
    {
     "name": "stdout",
     "output_type": "stream",
     "text": [
      "False\n"
     ]
    }
   ],
   "source": [
    "\"\"\"\n",
    "是不是，很快就帮我们数出来了呢？这个时候我们要拿最后一个元素，那么就可以用list[5] (因为下标是从0开始的，那么第六个元素的下标就是5，毕竟6-1=5)\n",
    "\n",
    "然后我们拿一下这个值到底是什么。\n",
    "\"\"\"\n",
    "list = [\"这是一个字符串\", 123, 123.456, 23232434343643643546354364534, True, False, ]\n",
    "number_of_list = len(list)\n",
    "print(list[number_of_list - 1])"
   ]
  },
  {
   "cell_type": "code",
   "execution_count": 7,
   "metadata": {},
   "outputs": [
    {
     "name": "stdout",
     "output_type": "stream",
     "text": [
      "True\n",
      "23232434343643643546354364534\n"
     ]
    }
   ],
   "source": [
    "\"\"\"\n",
    "那我要拿倒数第二个。倒数第三个元素呢？咱们同样可以这么来用，就是下标减二、下标减三\n",
    "\"\"\"\n",
    "list = [\"这是一个字符串\", 123, 123.456, 23232434343643643546354364534, True, False, ]\n",
    "number_of_list = len(list)\n",
    "\n",
    "print(list[number_of_list - 2])\n",
    "print(list[number_of_list - 3])"
   ]
  },
  {
   "cell_type": "code",
   "execution_count": 8,
   "metadata": {},
   "outputs": [
    {
     "name": "stdout",
     "output_type": "stream",
     "text": [
      "False\n",
      "True\n",
      "23232434343643643546354364534\n"
     ]
    }
   ],
   "source": [
    "\"\"\"\n",
    "这样，我们就可以拿到列表中任意一个位置的元素的值，但是每次都要算一下，现在这个列表有多长，是不是觉得不是很elegant（优雅）。别怕，\n",
    "咱们还真与更好玩的。那就是下标写成-1，就能拿到最后一个元素。\n",
    "\n",
    "那是不是我写成-2就可以拿到倒数第二个元素了呢？\n",
    "\n",
    "嘿嘿，你还真的是聪明呢，就是这样哦。\n",
    "\"\"\"\n",
    "list = [\"这是一个字符串\", 123, 123.456, 23232434343643643546354364534, True, False, ]\n",
    "print(list[-1])\n",
    "print(list[-2])\n",
    "print(list[-3])"
   ]
  },
  {
   "cell_type": "code",
   "execution_count": 9,
   "metadata": {},
   "outputs": [
    {
     "ename": "IndexError",
     "evalue": "list index out of range",
     "output_type": "error",
     "traceback": [
      "\u001b[0;31m---------------------------------------------------------------------------\u001b[0m",
      "\u001b[0;31mIndexError\u001b[0m                                Traceback (most recent call last)",
      "\u001b[0;32m<ipython-input-9-7192cd583721>\u001b[0m in \u001b[0;36m<module>\u001b[0;34m()\u001b[0m\n\u001b[1;32m      5\u001b[0m \"\"\"\n\u001b[1;32m      6\u001b[0m \u001b[0mlist\u001b[0m \u001b[0;34m=\u001b[0m \u001b[0;34m[\u001b[0m\u001b[0;34m\"hello\"\u001b[0m\u001b[0;34m,\u001b[0m \u001b[0;34m\"miss\"\u001b[0m\u001b[0;34m,\u001b[0m \u001b[0;34m\"li\"\u001b[0m\u001b[0;34m,\u001b[0m \u001b[0;34m\"😜\"\u001b[0m\u001b[0;34m]\u001b[0m\u001b[0;34m\u001b[0m\u001b[0;34m\u001b[0m\u001b[0m\n\u001b[0;32m----> 7\u001b[0;31m \u001b[0mprint\u001b[0m\u001b[0;34m(\u001b[0m\u001b[0mlist\u001b[0m\u001b[0;34m[\u001b[0m\u001b[0;34m-\u001b[0m\u001b[0;36m5\u001b[0m\u001b[0;34m]\u001b[0m\u001b[0;34m)\u001b[0m\u001b[0;34m\u001b[0m\u001b[0;34m\u001b[0m\u001b[0m\n\u001b[0m",
      "\u001b[0;31mIndexError\u001b[0m: list index out of range"
     ]
    }
   ],
   "source": [
    "\"\"\"\n",
    "注意：敲黑板了哦。\n",
    "\n",
    "如果一个列表就有4个元素，我们下标是不是不可以写成-5呢？如果写成-5会不会出错呢？毕竟人家只有4个，你非得要问人家第5个是什么？\n",
    "\n",
    "那咱们就来实地测试一下吧~\n",
    "\"\"\"\n",
    "list = [\"hello\", \"miss\", \"li\", \"😜\"]\n",
    "print(list[-5])\n"
   ]
  },
  {
   "cell_type": "code",
   "execution_count": null,
   "metadata": {},
   "outputs": [],
   "source": [
    "\"\"\"\n",
    "可以看出，程序报错了。提示咱们 “list index out of range”.\n",
    "\n",
    "所以使用这种方式，需要注意的就是千万别越界咯。\n",
    "\"\"\""
   ]
  },
  {
   "cell_type": "code",
   "execution_count": 10,
   "metadata": {},
   "outputs": [
    {
     "data": {
      "text/plain": [
       "['__add__',\n",
       " '__class__',\n",
       " '__contains__',\n",
       " '__delattr__',\n",
       " '__delitem__',\n",
       " '__dir__',\n",
       " '__doc__',\n",
       " '__eq__',\n",
       " '__format__',\n",
       " '__ge__',\n",
       " '__getattribute__',\n",
       " '__getitem__',\n",
       " '__gt__',\n",
       " '__hash__',\n",
       " '__iadd__',\n",
       " '__imul__',\n",
       " '__init__',\n",
       " '__init_subclass__',\n",
       " '__iter__',\n",
       " '__le__',\n",
       " '__len__',\n",
       " '__lt__',\n",
       " '__mul__',\n",
       " '__ne__',\n",
       " '__new__',\n",
       " '__reduce__',\n",
       " '__reduce_ex__',\n",
       " '__repr__',\n",
       " '__reversed__',\n",
       " '__rmul__',\n",
       " '__setattr__',\n",
       " '__setitem__',\n",
       " '__sizeof__',\n",
       " '__str__',\n",
       " '__subclasshook__',\n",
       " 'append',\n",
       " 'clear',\n",
       " 'copy',\n",
       " 'count',\n",
       " 'extend',\n",
       " 'index',\n",
       " 'insert',\n",
       " 'pop',\n",
       " 'remove',\n",
       " 'reverse',\n",
       " 'sort']"
      ]
     },
     "execution_count": 10,
     "metadata": {},
     "output_type": "execute_result"
    }
   ],
   "source": [
    "# 方法大全\n",
    "\n",
    "\"\"\"\n",
    "上一个小节，咱们学习字符串类型的时候，列了一下字符串都有哪些方法。这里咱们同样列举一下，列表类型有哪些方便操作的方法吧。\n",
    "\"\"\"\n",
    "mylist = []\n",
    "dir(mylist)"
   ]
  },
  {
   "cell_type": "code",
   "execution_count": 11,
   "metadata": {},
   "outputs": [
    {
     "name": "stdout",
     "output_type": "stream",
     "text": [
      "[1, 2, 3, 4, 5, 6, 7, '😜', '薛定谔的🐶']\n"
     ]
    }
   ],
   "source": [
    "\"\"\"\n",
    "哈哈，是不是也有一大堆。\n",
    "\n",
    "还是来几个实际的例子，来体验一下，这些方法是怎么用的吧。\n",
    "\"\"\"\n",
    "mylist = [1, 2, 3, 4, 5, 6, 7]\n",
    "\n",
    "# 往列表尾部里继续扔元素\n",
    "mylist.append(\"😜\")\n",
    "mylist.append(\"薛定谔的🐶\")\n",
    "print(mylist)"
   ]
  },
  {
   "cell_type": "code",
   "execution_count": 13,
   "metadata": {},
   "outputs": [
    {
     "name": "stdout",
     "output_type": "stream",
     "text": [
      "7\n",
      "[1, 2, 3, 4, 5, 6]\n"
     ]
    }
   ],
   "source": [
    "# 从列表尾部开始扔元素\n",
    "mylist = [1, 2, 3, 4, 5, 6, 7]\n",
    "popped_element = mylist.pop()\n",
    "print(popped_element)\n",
    "# 看下原来的列表值变成了什么样的\n",
    "print(mylist)"
   ]
  },
  {
   "cell_type": "code",
   "execution_count": 14,
   "metadata": {},
   "outputs": [
    {
     "name": "stdout",
     "output_type": "stream",
     "text": [
      "[0, 1, 2, 3, 4, 5, 6, 7, 8, 9]\n"
     ]
    }
   ],
   "source": [
    "\"\"\"\n",
    "不难发现，这俩方法的作用分别是：\n",
    "\n",
    "append  向尾部扔新元素 \n",
    "pop     从尾部开始往外丢数据\n",
    "\"\"\"\n",
    "\n",
    "# 列表排序\n",
    "mylist = [1,3,9,5,7,8,4,6,2,0]\n",
    "mylist.sort()\n",
    "print(mylist)\n"
   ]
  },
  {
   "cell_type": "code",
   "execution_count": 15,
   "metadata": {},
   "outputs": [
    {
     "name": "stdout",
     "output_type": "stream",
     "text": [
      "Help on built-in function sort:\n",
      "\n",
      "sort(*, key=None, reverse=False) method of builtins.list instance\n",
      "    Stable sort *IN PLACE*.\n",
      "\n"
     ]
    }
   ],
   "source": [
    "\"\"\"\n",
    "我要想倒序排列该怎么办呢？我们来看下sort这个方法是怎么解释的吧。\n",
    "\"\"\"\n",
    "help([].sort)"
   ]
  },
  {
   "cell_type": "code",
   "execution_count": 16,
   "metadata": {},
   "outputs": [
    {
     "name": "stdout",
     "output_type": "stream",
     "text": [
      "[9, 8, 7, 6, 5, 4, 3, 2, 1, 0]\n"
     ]
    }
   ],
   "source": [
    "\"\"\"\n",
    "可以看出第三个参数是 reverse，中文意思是反转，默认值为False，我们把它设置成True，是不是就是告诉sort方法，按照倒序的排列对列表进行排序呢？\n",
    "\n",
    "congratulations, 你又猜对了呢。\n",
    "\"\"\"\n",
    "mylist = [1,3,9,5,7,8,4,6,2,0]\n",
    "mylist.sort(reverse=True)\n",
    "print(mylist)"
   ]
  },
  {
   "cell_type": "code",
   "execution_count": null,
   "metadata": {},
   "outputs": [],
   "source": [
    "\"\"\"\n",
    "好啦，列表篇的内容也蛮多的了。学到这里给自己点个赞吧！\n",
    "\n",
    "其他的咱们就不多讲了，等后面遇到了再进行讲述吧。\n",
    "\"\"\""
   ]
  }
 ],
 "metadata": {
  "kernelspec": {
   "display_name": "Python 3",
   "language": "python",
   "name": "python3"
  },
  "language_info": {
   "codemirror_mode": {
    "name": "ipython",
    "version": 3
   },
   "file_extension": ".py",
   "mimetype": "text/x-python",
   "name": "python",
   "nbconvert_exporter": "python",
   "pygments_lexer": "ipython3",
   "version": "3.7.3"
  }
 },
 "nbformat": 4,
 "nbformat_minor": 2
}

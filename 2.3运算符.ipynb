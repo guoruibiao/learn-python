{
 "cells": [
  {
   "cell_type": "code",
   "execution_count": null,
   "metadata": {},
   "outputs": [],
   "source": [
    "# 运算符\n",
    "\n",
    "\"\"\"\n",
    "运算符这一节内容比较多，但是都很简单，基本上看一下就知道是什么意思了。下面罗列一下本节内容：\n",
    "\n",
    "1. 算术运算符\n",
    "2. 比较（关系）运算符\n",
    "3. 赋值运算符\n",
    "4. 逻辑运算符\n",
    "5. 位运算符\n",
    "6. 成员运算符\n",
    "7. 身份运算符\n",
    "8. 运算符优先级\n",
    "\"\"\""
   ]
  },
  {
   "cell_type": "code",
   "execution_count": 1,
   "metadata": {},
   "outputs": [
    {
     "name": "stdout",
     "output_type": "stream",
     "text": [
      "6\n",
      "-4\n",
      "6\n",
      "0.5\n",
      "3.0\n",
      "1\n",
      "0\n",
      "8\n",
      "0\n",
      "1\n"
     ]
    }
   ],
   "source": [
    "# 1. 算术运算符\n",
    "\n",
    "\"\"\"\n",
    "算术运算符包括：\n",
    "  +    加法运算\n",
    "  -    减法运算\n",
    "  *    乘法运算\n",
    "  /    除法运算\n",
    "  %    取模运算\n",
    "  **   幂计算\n",
    "  //   整除运算（可以理解为将除法运算的结果，扔掉小数部分，只保留整数部分）\n",
    "\n",
    "接下来咱们通过代码来一探究竟。\n",
    "\"\"\"\n",
    "number1 = 1\n",
    "number2 = 2\n",
    "number3 = 3\n",
    "\n",
    "print(number1 + number2 + number3)\n",
    "print(number1 - number2 - number3)\n",
    "print(number1 * number2 * number3)\n",
    "\n",
    "# 除法运算\n",
    "print(number1 / number2)\n",
    "print(number3 / number1)\n",
    "\n",
    "# 取模运算\n",
    "print(number3 % number2)\n",
    "print(number3 % number1)\n",
    "\n",
    "# 幂计算 2的平方是4； 2的三次方是8； 2的四次方是16\n",
    "print(number2 ** number3)\n",
    "\n",
    "# 整除运算\n",
    "print(number1 // number2)\n",
    "print(number3 // number2)"
   ]
  },
  {
   "cell_type": "code",
   "execution_count": 2,
   "metadata": {},
   "outputs": [
    {
     "name": "stdout",
     "output_type": "stream",
     "text": [
      "False\n",
      "True\n",
      "True\n",
      "False\n",
      "False\n",
      "True\n",
      "True\n",
      "False\n",
      "False\n",
      "True\n",
      "True\n",
      "True\n"
     ]
    }
   ],
   "source": [
    "# 2. 比较（关系）运算符\n",
    "\n",
    "\"\"\"\n",
    "提到“比较”俩字，你脑海里想到的大概率应该是 谁比谁大，谁比谁厉害之类的吧。\n",
    "\n",
    "Python中的关系运算符也是起这个作用的，对比的结果要么是True，要么是False。\n",
    "\n",
    "    ==        等于\n",
    "    !=        不等于\n",
    "    >         大于\n",
    "    <         小于\n",
    "    >=        大于等于\n",
    "    <=        小于等于\n",
    "\"\"\"\n",
    "number1 = 1\n",
    "number2 = 2\n",
    "number3 = 1\n",
    "\n",
    "print(number1 == number2)\n",
    "print(number1 == number3)\n",
    "\n",
    "print(number1 != number2)\n",
    "print(number1 != number3)\n",
    "\n",
    "print(number1 > number2)\n",
    "print(number2 > number1)\n",
    "\n",
    "print(number1 < number2)\n",
    "print(number1 < number3)\n",
    "\n",
    "print(number1 >= number2)\n",
    "print(number1 >= number3)\n",
    "\n",
    "\n",
    "print(number1 <= number2)\n",
    "print(number1 <= number3)\n"
   ]
  },
  {
   "cell_type": "code",
   "execution_count": 4,
   "metadata": {},
   "outputs": [
    {
     "name": "stdout",
     "output_type": "stream",
     "text": [
      "6\n",
      "4\n"
     ]
    }
   ],
   "source": [
    "# 3. 赋值运算符\n",
    "\n",
    "\"\"\"\n",
    "赋值还能有运算符？这到底是一个什么概念呢？\n",
    "\n",
    "看起来可能会让人一头雾水，但是接下来看俩例子，相信你就明白了。\n",
    "\n",
    "=      简单的赋值运算符        c = a + b 将 a + b 的运算结果赋值为 c\n",
    "+=     加法赋值运算符          c += a 等效于 c = c + a\n",
    "-=     减法赋值运算符          c -= a 等效于 c = c - a\n",
    "*=     乘法赋值运算符          c *= a 等效于 c = c * a\n",
    "/=     除法赋值运算符          c /= a 等效于 c = c / a\n",
    "%=     取模赋值运算符          c %= a 等效于 c = c % a\n",
    "**=    幂赋值运算符           c **= a 等效于 c = c ** a\n",
    "//=    取整除赋值运算符        c //= a 等效于 c = c // a\n",
    "\"\"\"\n",
    "\n",
    "number1 = 1\n",
    "number2 = 2\n",
    "number3 = 3\n",
    "\n",
    "number4 = number1 + number2 + number3\n",
    "print(number4)\n",
    "\n",
    "number3 += number1\n",
    "print(number3)\n",
    "\n",
    "# ... 其他的都是类似的"
   ]
  },
  {
   "cell_type": "code",
   "execution_count": 5,
   "metadata": {},
   "outputs": [
    {
     "name": "stdout",
     "output_type": "stream",
     "text": [
      "False\n",
      "True\n",
      "False\n",
      "True\n"
     ]
    }
   ],
   "source": [
    "# 4. 逻辑运算符\n",
    "\n",
    "\"\"\"\n",
    "接下来瞅瞅 什么是逻辑运算符。\n",
    "\n",
    "在Python中，逻辑运算符指的就是:\n",
    "  \n",
    "  and  与   比如俩数都是True，那 ”与“操作的结果就是True，否则只要有一个是False，结果就是False\n",
    "  or   或   俩数进行”或“运算，只要有一个是True，结果就是True，除非俩都是False，或的结果才是False\n",
    "  not  非   非黑即白，一个人要么是男生，”非“的结果就是女生。\n",
    "\"\"\"\n",
    "\n",
    "number1 = True\n",
    "number2 = False\n",
    "\n",
    "print(number1 and number2)\n",
    "\n",
    "print(number1 or number2)\n",
    "\n",
    "print(not number1)\n",
    "print(not number2)"
   ]
  },
  {
   "cell_type": "code",
   "execution_count": null,
   "metadata": {},
   "outputs": [],
   "source": [
    "# 5. 位运算符\n",
    "\n",
    "\"\"\"\n",
    "按位运算符是把数字看作二进制来进行计算的。这一块内容用到的不是很频繁，咱们可以不在这上面花费太多时间，了解下就好啦。\n",
    "\n",
    "  &     “按位与”运算 \n",
    "  |     “按位或”运算\n",
    "  ^     “按位异或”运算\n",
    "  ~     “按位取反”运算 \n",
    "  >>    “右移”运算，相当于是一个数除以2\n",
    "  <<    “左移”运算，相当于是一个数乘以2\n",
    "\n",
    "\"\"\""
   ]
  },
  {
   "cell_type": "code",
   "execution_count": 6,
   "metadata": {},
   "outputs": [
    {
     "name": "stdout",
     "output_type": "stream",
     "text": [
      "True\n",
      "False\n",
      "False\n",
      "True\n"
     ]
    }
   ],
   "source": [
    "# 6. 成员运算符\n",
    "\n",
    "\"\"\"\n",
    "成员，咱们可以联想下实际的例子。\n",
    "\n",
    "”我是XX公司的一个职工，张三不是。“ 这句话就已经包含了咱们本次要讲述的”成员运算“了。\n",
    "\n",
    "    in          在里面\n",
    "    not in      不在里面\n",
    "\"\"\"\n",
    "\n",
    "mylist = [\"张三\", \"李四\", \"王五\"]\n",
    "\n",
    "print(\"张三\" in mylist)\n",
    "print(\"赵六\" in mylist)\n",
    "\n",
    "print(\"张三\" not in mylist)\n",
    "print(\"赵六\" not in mylist)"
   ]
  },
  {
   "cell_type": "code",
   "execution_count": 7,
   "metadata": {},
   "outputs": [
    {
     "name": "stdout",
     "output_type": "stream",
     "text": [
      "False\n",
      "True\n",
      "True\n",
      "False\n"
     ]
    }
   ],
   "source": [
    "# 7. 身份运算符\n",
    "\n",
    "\"\"\"\n",
    "“我是一个人，我不是一只🐖。”这句话也可以概括这个部分的内容。身份运算要么“是”， 要么“不是”。\n",
    "\n",
    "    is \n",
    "    is not\n",
    "\"\"\"\n",
    "\n",
    "number1 = 1\n",
    "number2 = 2\n",
    "number3 = 1\n",
    "\n",
    "\n",
    "print(number1 is number2)\n",
    "print(number1 is number3)\n",
    "\n",
    "print(number1 is not number2)\n",
    "print(number1 is not number3)"
   ]
  },
  {
   "cell_type": "code",
   "execution_count": 9,
   "metadata": {},
   "outputs": [
    {
     "name": "stdout",
     "output_type": "stream",
     "text": [
      "(a + b) * c / d 运算结果为： 90.0\n",
      "((a + b) * c) / d 运算结果为： 90.0\n",
      "(a + b) * (c / d) 运算结果为： 90.0\n",
      "a + (b * c) / d 运算结果为： 50.0\n"
     ]
    }
   ],
   "source": [
    "# 8. 运算符优先级\n",
    "\n",
    "\"\"\"\n",
    "坚持下，到了最后一个部分了。\n",
    "\n",
    "运算符优先级的问题，是一个比较让人头疼的问题，虽然平时写代码的过程中经常会遇到，但是有时候就是记不住到底哪个运算符的优先级更高一点。\n",
    "这里咱们还是了解一下，混个脸熟，要是以后遇到了类似的问题，知道怎么来查就行。\n",
    "\n",
    "\n",
    "\n",
    "    **                            指数 (最高优先级)\n",
    "    ~ + -                         按位翻转, 一元加号和减号 (最后两个的方法名为 +@ 和 -@)\n",
    "    * / % //                      乘，除，取模和取整除\n",
    "    + -                           加法减法\n",
    "    >> <<                         右移，左移运算符\n",
    "    &                             位 'AND'\n",
    "    ^ |                           位运算符\n",
    "    <= < > >=                     比较运算符\n",
    "    <> == !=                      等于运算符\n",
    "    = %= /= //= -= += *= **=      赋值运算符\n",
    "    is is not                     身份运算符\n",
    "    in not in                     成员运算符\n",
    "    not and or                    逻辑运算符\n",
    "\n",
    "\n",
    "下面从网上抄了一段运算符优先级的代码，感兴趣的可以瞅一眼，不感兴趣就算啦。\n",
    "\"\"\"\n",
    "a = 20\n",
    "b = 10\n",
    "c = 15\n",
    "d = 5\n",
    "e = 0\n",
    " \n",
    "e = (a + b) * c / d       #( 30 * 15 ) / 5\n",
    "print(\"(a + b) * c / d 运算结果为：\",  e)\n",
    " \n",
    "e = ((a + b) * c) / d     # (30 * 15 ) / 5\n",
    "print(\"((a + b) * c) / d 运算结果为：\",  e)\n",
    " \n",
    "e = (a + b) * (c / d);    # (30) * (15/5)\n",
    "print(\"(a + b) * (c / d) 运算结果为：\",  e)\n",
    " \n",
    "e = a + (b * c) / d;      #  20 + (150/5)\n",
    "print(\"a + (b * c) / d 运算结果为：\",  e)\n"
   ]
  },
  {
   "cell_type": "code",
   "execution_count": null,
   "metadata": {},
   "outputs": [],
   "source": [
    "\"\"\"\n",
    "运算符的内容就算是完结啦。给看到这里的自己点个赞吧😜\n",
    "\"\"\""
   ]
  }
 ],
 "metadata": {
  "kernelspec": {
   "display_name": "Python 3",
   "language": "python",
   "name": "python3"
  },
  "language_info": {
   "codemirror_mode": {
    "name": "ipython",
    "version": 3
   },
   "file_extension": ".py",
   "mimetype": "text/x-python",
   "name": "python",
   "nbconvert_exporter": "python",
   "pygments_lexer": "ipython3",
   "version": "3.7.3"
  }
 },
 "nbformat": 4,
 "nbformat_minor": 2
}

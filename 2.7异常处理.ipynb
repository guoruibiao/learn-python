{
 "cells": [
  {
   "cell_type": "code",
   "execution_count": null,
   "metadata": {},
   "outputs": [],
   "source": [
    "# 异常处理\n",
    "\n",
    "\"\"\"\n",
    "程序是人写的，所以不可避免的会出现一些逻辑上的错误。为了程序能更好的运行，我们需要对异常情况做下处理。\n",
    "\n",
    "在Python中，我们会使用如下结构：\n",
    "    \n",
    "    try:\n",
    "        print(\"xsdsadsds\")\n",
    "        ...\n",
    "    except as exception:\n",
    "        ...\n",
    "    finally:\n",
    "        ...\n",
    "\"\"\""
   ]
  },
  {
   "cell_type": "code",
   "execution_count": null,
   "metadata": {},
   "outputs": [],
   "source": [
    "\"\"\"\n",
    "不过这一节对新手来说，没啥特别重要的，就先不写了吧。否则也只是增加记忆和理解的负担。\n",
    "\n",
    "\n",
    "那么，关于Python的基础部分，就完结咯。学到这里，相信你已经算是入了门了👍\n",
    "\"\"\""
   ]
  }
 ],
 "metadata": {
  "kernelspec": {
   "display_name": "Python 3",
   "language": "python",
   "name": "python3"
  },
  "language_info": {
   "codemirror_mode": {
    "name": "ipython",
    "version": 3
   },
   "file_extension": ".py",
   "mimetype": "text/x-python",
   "name": "python",
   "nbconvert_exporter": "python",
   "pygments_lexer": "ipython3",
   "version": "3.7.3"
  }
 },
 "nbformat": 4,
 "nbformat_minor": 2
}

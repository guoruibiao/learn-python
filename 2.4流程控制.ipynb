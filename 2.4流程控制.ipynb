{
 "cells": [
  {
   "cell_type": "code",
   "execution_count": null,
   "metadata": {},
   "outputs": [],
   "source": [
    "# 流程控制\n",
    "\n",
    "\"\"\"\n",
    "到了这一小节，对一个程序而言，就到了核心环节了。对一个人来说，每天都活在选择之中。\n",
    "\n",
    "今天中午吃什么？明天要怎么安排时间？放假了要不要回老家之类的。\n",
    "\n",
    "对于一个程序来说，也是类似的。流程控制主要包括下面两个大块的内容:\n",
    "    \n",
    "    1. if-else\n",
    "    2. 循环\n",
    "    \n",
    "\"\"\""
   ]
  },
  {
   "cell_type": "code",
   "execution_count": 1,
   "metadata": {},
   "outputs": [
    {
     "name": "stdout",
     "output_type": "stream",
     "text": [
      "这个人的名字叫张三\n"
     ]
    }
   ],
   "source": [
    "# 1. if-else\n",
    "\n",
    "\"\"\"\n",
    "if-else 是一个结构的统称，实际上会有很多变种，但是都不难理解。我们看下例子，相信你一下子就明白啦。\n",
    "\"\"\"\n",
    "\n",
    "name = \"张三\"\n",
    "\n",
    "if name == \"张三\":\n",
    "    print(\"这个人的名字叫张三\")\n",
    "else:\n",
    "    print(\"这个人的名字不是张三\")"
   ]
  },
  {
   "cell_type": "code",
   "execution_count": 2,
   "metadata": {},
   "outputs": [
    {
     "name": "stdout",
     "output_type": "stream",
     "text": [
      "从心所欲，不俞规\n"
     ]
    }
   ],
   "source": [
    "age = 66\n",
    "\n",
    "if age < 18:\n",
    "    print(\"未成年\")\n",
    "elif age <= 30:\n",
    "    print(\"而立之年\")\n",
    "elif age <= 40:\n",
    "    print(\"不惑之年\")\n",
    "elif age <= 50:\n",
    "    print(\"知天命\")\n",
    "elif age <= 60:\n",
    "    print(\"耳顺\")\n",
    "elif age <= 70:\n",
    "    print(\"从心所欲，不俞规\")\n",
    "else:\n",
    "    print(\"您好长寿啊\")\n",
    "    "
   ]
  },
  {
   "cell_type": "code",
   "execution_count": 3,
   "metadata": {},
   "outputs": [
    {
     "name": "stdout",
     "output_type": "stream",
     "text": [
      "张三\n",
      "李四\n",
      "王五\n",
      "index= 0 name= 张三\n",
      "index= 1 name= 李四\n",
      "index= 2 name= 王五\n"
     ]
    }
   ],
   "source": [
    "# 2. 循环\n",
    "\n",
    "\"\"\"\n",
    "在讲循环之前，还需要先介绍几个python语言中的关键字，他们只可以在 ”循环结构中使用“\n",
    "  \n",
    "  break       跳出循环\n",
    "  continue    跳到下次循环条件处，continue后面的语句不再执行\n",
    "  \n",
    "不了解怎么用是吧？没事儿，待会在例子中你就知道是怎么用的啦。\n",
    "\n",
    "\n",
    "Python语言的循环，主要有两种表达：\n",
    "  for   循环\n",
    "  while 循环\n",
    "  \n",
    "咱们还是通过例子来学习下。\n",
    "\"\"\"\n",
    "\n",
    "names = [\"张三\", \"李四\", \"王五\"]\n",
    "for name in names:\n",
    "    print(name)\n",
    "\n",
    "names = [\"张三\", \"李四\", \"王五\"]\n",
    "number_of_names = len(names)\n",
    "for index in range(0, number_of_names):\n",
    "    print(\"index=\", index, \"name=\", names[index])\n"
   ]
  },
  {
   "cell_type": "code",
   "execution_count": 4,
   "metadata": {},
   "outputs": [
    {
     "name": "stdout",
     "output_type": "stream",
     "text": [
      "current index =  0\n",
      "current index =  1\n",
      "current index =  2\n",
      "current index =  3\n",
      "current index =  4\n",
      "current index =  5\n",
      "current index =  6\n",
      "current index =  7\n",
      "current index =  8\n"
     ]
    }
   ],
   "source": [
    "\"\"\"\n",
    "while 循环的格式比较统一，如下：\n",
    "\n",
    "  while 判断条件(condition)：\n",
    "    执行语句(statements)……\n",
    "    \n",
    "\"\"\"\n",
    "\n",
    "max_index = 9\n",
    "current_index = 0\n",
    "\n",
    "while current_index < max_index:\n",
    "    print(\"current index = \", current_index)\n",
    "    current_index = current_index + 1\n"
   ]
  },
  {
   "cell_type": "code",
   "execution_count": 5,
   "metadata": {},
   "outputs": [
    {
     "name": "stdout",
     "output_type": "stream",
     "text": [
      "current index =  0\n",
      "current index =  1\n",
      "current index =  2\n",
      "current index =  3\n",
      "current index =  4\n"
     ]
    }
   ],
   "source": [
    "\"\"\"\n",
    "然后我们来看看如何在循环结构中使用 continue 和 break 吧。保准你一下子就懂了。\n",
    "\"\"\"\n",
    "max_index = 9\n",
    "current_index = 0\n",
    "\n",
    "while current_index < max_index:\n",
    "    print(\"current index = \", current_index)\n",
    "    current_index = current_index + 1\n",
    "    # 如果current_index 大于等于5 就跳出循环结构，不再打印\n",
    "    if current_index >=5:\n",
    "        break\n",
    "\n"
   ]
  },
  {
   "cell_type": "code",
   "execution_count": 7,
   "metadata": {},
   "outputs": [
    {
     "name": "stdout",
     "output_type": "stream",
     "text": [
      "current index =  6\n",
      "current index =  7\n",
      "current index =  8\n",
      "current index =  9\n"
     ]
    }
   ],
   "source": [
    "max_index = 9\n",
    "current_index = 0\n",
    "\n",
    "while current_index < max_index:\n",
    "    current_index = current_index + 1\n",
    "    # 如果current_index 小于等于5，就执行 ”下一次“的循环判断，continue后面的语句就不再执行啦。\n",
    "    if current_index <= 5:\n",
    "        continue\n",
    "    print(\"current index = \", current_index)\n",
    "\n"
   ]
  },
  {
   "cell_type": "code",
   "execution_count": null,
   "metadata": {},
   "outputs": [],
   "source": [
    "\"\"\"\n",
    "流程控制是我们平时写代码的时候遇到的最多的结构，而且生活中比如：拼多多优惠券被人薅羊毛了，哪家的程序员因为xxx错误除了事故了之类的，\n",
    "\n",
    "很多都是流程控制这一块出现了问题。这个小节内容不是很多，随着以后写代码越来越多，相信你很快就会熟悉起来的。\n",
    "\n",
    "💪💪💪💪💪💪💪\n",
    "\"\"\""
   ]
  }
 ],
 "metadata": {
  "kernelspec": {
   "display_name": "Python 3",
   "language": "python",
   "name": "python3"
  },
  "language_info": {
   "codemirror_mode": {
    "name": "ipython",
    "version": 3
   },
   "file_extension": ".py",
   "mimetype": "text/x-python",
   "name": "python",
   "nbconvert_exporter": "python",
   "pygments_lexer": "ipython3",
   "version": "3.7.3"
  }
 },
 "nbformat": 4,
 "nbformat_minor": 2
}

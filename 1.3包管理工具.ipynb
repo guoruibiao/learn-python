{
 "cells": [
  {
   "cell_type": "code",
   "execution_count": null,
   "metadata": {},
   "outputs": [],
   "source": [
    "\"\"\"\n",
    "手机上安装软件咱们用的是： 应用市场（安卓）、App Store（ios），对我们今天的”包管理工具“来说，它们就相当于是手机上的包管理工具。\n",
    "\n",
    "在Python中，我们使用的包管理工具叫 pip\n",
    "\n",
    "下面介绍下怎么安装和使用pip。\n",
    "\"\"\""
   ]
  },
  {
   "cell_type": "code",
   "execution_count": 1,
   "metadata": {},
   "outputs": [
    {
     "name": "stdout",
     "output_type": "stream",
     "text": [
      "Collecting pip\n",
      "  Downloading https://files.pythonhosted.org/packages/00/b6/9cfa56b4081ad13874b0c6f96af8ce16cfbc1cb06bedf8e9164ce5551ec1/pip-19.3.1-py2.py3-none-any.whl (1.4MB)\n",
      "Installing collected packages: pip\n",
      "  Found existing installation: pip 19.0.3\n",
      "    Uninstalling pip-19.0.3:\n",
      "      Successfully uninstalled pip-19.0.3\n",
      "Successfully installed pip-19.3.1\n"
     ]
    },
    {
     "name": "stderr",
     "output_type": "stream",
     "text": [
      "  % Total    % Received % Xferd  Average Speed   Time    Time     Time  Current\n",
      "                                 Dload  Upload   Total   Spent    Left  Speed\n",
      "\r",
      "  0     0    0     0    0     0      0      0 --:--:-- --:--:-- --:--:--     0\r",
      "  0 1734k    0  2228    0     0   6240      0  0:04:44 --:--:--  0:04:44  6223\r",
      " 40 1734k   40  703k    0     0   540k      0  0:00:03  0:00:01  0:00:02  539k\r",
      " 65 1734k   65 1135k    0     0   493k      0  0:00:03  0:00:02  0:00:01  493k\r",
      " 90 1734k   90 1567k    0     0   475k      0  0:00:03  0:00:03 --:--:--  475k\r",
      "100 1734k  100 1734k    0     0   477k      0  0:00:03  0:00:03 --:--:--  477k\n"
     ]
    }
   ],
   "source": [
    "%%bash\n",
    "curl https://bootstrap.pypa.io/get-pip.py | python3"
   ]
  },
  {
   "cell_type": "code",
   "execution_count": null,
   "metadata": {},
   "outputs": [],
   "source": [
    "\"\"\"\n",
    "在命令行里输入那串代码`curl https://bootstrap.pypa.io/get-pip.py | python3` 后就可以了。然后就是等待它自己进行安装。\n",
    "\"\"\""
   ]
  },
  {
   "cell_type": "code",
   "execution_count": null,
   "metadata": {},
   "outputs": [],
   "source": [
    "\"\"\"\n",
    "怎么查看有没有安装成功呢？我们可以在命令行里面输入如下代码：\n",
    "➜  ~ pip --version\n",
    "pip 19.3.1 from /usr/local/lib/python3.7/site-packages/pip (python 3.7)\n",
    "\n",
    "\"\"\""
   ]
  },
  {
   "cell_type": "code",
   "execution_count": null,
   "metadata": {},
   "outputs": [],
   "source": [
    "\"\"\"\n",
    "和手机上安装、卸载软件类似。我们可以通过pip安装别人写好的第三方库（也可以称之为第三方包）命令分别是：\n",
    "\n",
    "\n",
    "安装名叫xxx的库\n",
    "pip install xxx\n",
    "\n",
    "\n",
    "卸载名叫xxx的库\n",
    "pip uninstall xxx\n",
    "\n",
    "\n",
    "查看当前电脑上都安装了哪些库？\n",
    "pip list\n",
    "\"\"\""
   ]
  },
  {
   "cell_type": "code",
   "execution_count": null,
   "metadata": {},
   "outputs": [],
   "source": [
    "\"\"\"\n",
    "其余的咱们就不多讲了，后面用到了（要等到2.6.2章节估计才会用的到）再说。\n",
    "\n",
    "现在掌握这么多基本上就算是可以了。\n",
    "\"\"\""
   ]
  }
 ],
 "metadata": {
  "kernelspec": {
   "display_name": "Python 3",
   "language": "python",
   "name": "python3"
  },
  "language_info": {
   "codemirror_mode": {
    "name": "ipython",
    "version": 3
   },
   "file_extension": ".py",
   "mimetype": "text/x-python",
   "name": "python",
   "nbconvert_exporter": "python",
   "pygments_lexer": "ipython3",
   "version": "3.7.3"
  }
 },
 "nbformat": 4,
 "nbformat_minor": 2
}

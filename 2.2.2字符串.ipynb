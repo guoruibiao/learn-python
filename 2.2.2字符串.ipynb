{
 "cells": [
  {
   "cell_type": "code",
   "execution_count": 1,
   "metadata": {},
   "outputs": [
    {
     "name": "stdout",
     "output_type": "stream",
     "text": [
      "hello miss li 😜\n"
     ]
    }
   ],
   "source": [
    "# 字符串类型\n",
    "\n",
    "\"\"\"\n",
    "不夸张的说，在我这短短的编码生涯中，除了数值型的数据，字符串类型的数据可以说是遇到的最多的了。\n",
    "\n",
    "基本上所有的内容都可以用字符串来表示（当然啦，这是夸张的说法）。\n",
    "\n",
    "在Python语言中，字符串类型的数据可以用三种方法进行表达。\n",
    "\n",
    "1. 俩单引号包裹住的数据\n",
    "2. 俩双引号包裹住的数据\n",
    "3. 6个单引号（双引号）包裹住的数据。\n",
    "\n",
    "接下来咱们用几个实际的按理来演示一下，怎么在Python中创建一个字符串类型的数据，\n",
    "\"\"\"\n",
    "\n",
    "string1 = \"hello\"\n",
    "string2 = \"miss\"\n",
    "string3 = \"\"\"li\"\"\"\n",
    "string4 = '''😜'''\n",
    "\n",
    "print(string1, string2, string3, string4)"
   ]
  },
  {
   "cell_type": "code",
   "execution_count": null,
   "metadata": {},
   "outputs": [],
   "source": [
    "# 为什么这么多表达方式呢？\n",
    "\n",
    "\"\"\"\n",
    "是不是有个疑问，咋这么多表达方式，我是不是像之前一样，记住一两个就好了呢？\n",
    "\n",
    "是呀是呀，确实没必要记住那么多表达方式，实际上，还真的就是记住一两个就过了。剩下的混个脸熟，知道怎么查就好了。\n",
    "\n",
    "但是，我们还是回到正题，为什么Python要内置这么多的表达方式呢？“存在即合理”，所以肯定有它的原因不是。\n",
    "\n",
    "比如，我有一个3000字长度（里面既有多个单引号，又有多个双引号）的字符串，这个时候用俩单引号或者俩双引号包裹的写法，既不美观，也不能\n",
    "正确表达（暂时不考虑使用转义字符）。那这个时候，用6个单引号或者双引号来包裹的写法是不是就很合适？\n",
    "\n",
    "再比如，我有个字符串，就几个字母的长度，也没有夹杂其他单引号或者双引号，这个时候再用6个单引号或者6个双引号进行包裹的表达（虽然也没错），\n",
    "是不是就显得很臃肿。\n",
    "\n",
    "所以，还是看实际的场景，选择合适的写法。\n",
    "\"\"\""
   ]
  },
  {
   "cell_type": "code",
   "execution_count": 2,
   "metadata": {},
   "outputs": [
    {
     "name": "stdout",
     "output_type": "stream",
     "text": [
      "hello world.\n"
     ]
    }
   ],
   "source": [
    "# 转义字符\n",
    "\n",
    "\"\"\"\n",
    "不得不说，转义字符是个很神奇的存在。咱们这里也罗列下，常用的转义字符的表达吧。\n",
    "\n",
    "\n",
    "\\(在行尾时)    续行符\n",
    "\\\\            反斜杠符号\n",
    "\\'            单引号\n",
    "\\\"            双引号\n",
    "\\a            响铃\n",
    "\\b            退格(Backspace)\n",
    "\\e            转义\n",
    "\\000          空\n",
    "\\n            换行\n",
    "\\v            纵向制表符\n",
    "\\t            横向制表符\n",
    "\\r            回车\n",
    "......\n",
    "\n",
    "剩下的还有，但是没必要多写了，列举再多咱们谁也记不住，只是增加学习的恐慌，还不如不加，等真正用到了再用搜索引擎查一下。\n",
    "\n",
    "接下来演示几个小例子，就知道”转义字符“到底是什么，怎么用了。\n",
    "\"\"\"\n",
    "string = \"hello \" \\\n",
    "         \"world.\"\n",
    "print(string)\n",
    "\n"
   ]
  },
  {
   "cell_type": "code",
   "execution_count": 5,
   "metadata": {},
   "outputs": [
    {
     "name": "stdout",
     "output_type": "stream",
     "text": [
      "hello \" world.\n",
      "hello 'world.\n"
     ]
    }
   ],
   "source": [
    "# 双引号包裹的字符串中还有其他的双引号时，在里面的双引号前加一个斜线\\ 来表示，这个双引号是字符串内部的\n",
    "string = \"hello \\\" world.\"\n",
    "print(string)\n",
    "# 单引号的表达也是类似的\n",
    "string = 'hello \\'world.'\n",
    "print(string)"
   ]
  },
  {
   "cell_type": "code",
   "execution_count": 6,
   "metadata": {},
   "outputs": [
    {
     "ename": "SyntaxError",
     "evalue": "invalid syntax (<ipython-input-6-18c385f23075>, line 2)",
     "output_type": "error",
     "traceback": [
      "\u001b[0;36m  File \u001b[0;32m\"<ipython-input-6-18c385f23075>\"\u001b[0;36m, line \u001b[0;32m2\u001b[0m\n\u001b[0;31m    string = \"hello \"world\"\u001b[0m\n\u001b[0m                         ^\u001b[0m\n\u001b[0;31mSyntaxError\u001b[0m\u001b[0;31m:\u001b[0m invalid syntax\n"
     ]
    }
   ],
   "source": [
    "# 看一个不加转义的，看看报什么错误吧\n",
    "string = \"hello \"world\"\n",
    "print(string)"
   ]
  },
  {
   "cell_type": "code",
   "execution_count": 7,
   "metadata": {},
   "outputs": [
    {
     "name": "stdout",
     "output_type": "stream",
     "text": [
      "hello\n",
      "world.\n"
     ]
    }
   ],
   "source": [
    "# 换行的表示\n",
    "string = \"hello\\nworld.\"\n",
    "print(string)"
   ]
  },
  {
   "cell_type": "code",
   "execution_count": 8,
   "metadata": {},
   "outputs": [
    {
     "name": "stdout",
     "output_type": "stream",
     "text": [
      "hello\tworld\t.\n"
     ]
    }
   ],
   "source": [
    "# 制表符 也就是我们键盘上左上角：从上往下数第二个键的位置\n",
    "string = \"hello\\tworld\\t.\"\n",
    "print(string)"
   ]
  },
  {
   "cell_type": "code",
   "execution_count": 9,
   "metadata": {},
   "outputs": [
    {
     "data": {
      "text/plain": [
       "['__add__',\n",
       " '__class__',\n",
       " '__contains__',\n",
       " '__delattr__',\n",
       " '__dir__',\n",
       " '__doc__',\n",
       " '__eq__',\n",
       " '__format__',\n",
       " '__ge__',\n",
       " '__getattribute__',\n",
       " '__getitem__',\n",
       " '__getnewargs__',\n",
       " '__gt__',\n",
       " '__hash__',\n",
       " '__init__',\n",
       " '__init_subclass__',\n",
       " '__iter__',\n",
       " '__le__',\n",
       " '__len__',\n",
       " '__lt__',\n",
       " '__mod__',\n",
       " '__mul__',\n",
       " '__ne__',\n",
       " '__new__',\n",
       " '__reduce__',\n",
       " '__reduce_ex__',\n",
       " '__repr__',\n",
       " '__rmod__',\n",
       " '__rmul__',\n",
       " '__setattr__',\n",
       " '__sizeof__',\n",
       " '__str__',\n",
       " '__subclasshook__',\n",
       " 'capitalize',\n",
       " 'casefold',\n",
       " 'center',\n",
       " 'count',\n",
       " 'encode',\n",
       " 'endswith',\n",
       " 'expandtabs',\n",
       " 'find',\n",
       " 'format',\n",
       " 'format_map',\n",
       " 'index',\n",
       " 'isalnum',\n",
       " 'isalpha',\n",
       " 'isascii',\n",
       " 'isdecimal',\n",
       " 'isdigit',\n",
       " 'isidentifier',\n",
       " 'islower',\n",
       " 'isnumeric',\n",
       " 'isprintable',\n",
       " 'isspace',\n",
       " 'istitle',\n",
       " 'isupper',\n",
       " 'join',\n",
       " 'ljust',\n",
       " 'lower',\n",
       " 'lstrip',\n",
       " 'maketrans',\n",
       " 'partition',\n",
       " 'replace',\n",
       " 'rfind',\n",
       " 'rindex',\n",
       " 'rjust',\n",
       " 'rpartition',\n",
       " 'rsplit',\n",
       " 'rstrip',\n",
       " 'split',\n",
       " 'splitlines',\n",
       " 'startswith',\n",
       " 'strip',\n",
       " 'swapcase',\n",
       " 'title',\n",
       " 'translate',\n",
       " 'upper',\n",
       " 'zfill']"
      ]
     },
     "execution_count": 9,
     "metadata": {},
     "output_type": "execute_result"
    }
   ],
   "source": [
    "# 字符串的特性\n",
    "\n",
    "\"\"\"\n",
    "说到字符串的特性，那可真的是太多太多了。有一些会涉及到后面”列表“的部分，咱们暂且先忽略掉。\n",
    "\n",
    "字符串本身作为一种”对象“的表达，本身会有很多的属性（方法）。我们再次借用 dir(module_name)这个函数，来看看都有哪些吧。\n",
    "\"\"\"\n",
    "dir(\"一个字符串\")"
   ]
  },
  {
   "cell_type": "code",
   "execution_count": 10,
   "metadata": {},
   "outputs": [
    {
     "name": "stdout",
     "output_type": "stream",
     "text": [
      "HELLO WORLD.\n"
     ]
    }
   ],
   "source": [
    "\"\"\"\n",
    "来举几个实际的例子，来加深下印象。\n",
    "\"\"\"\n",
    "\n",
    "mystring = \"hello world.\"\n",
    "print(mystring.upper())"
   ]
  },
  {
   "cell_type": "code",
   "execution_count": 11,
   "metadata": {},
   "outputs": [
    {
     "name": "stdout",
     "output_type": "stream",
     "text": [
      "hello world.\n"
     ]
    }
   ],
   "source": [
    "mystring = \"HellO World.\"\n",
    "print(mystring.lower())"
   ]
  },
  {
   "cell_type": "code",
   "execution_count": 12,
   "metadata": {},
   "outputs": [
    {
     "name": "stdout",
     "output_type": "stream",
     "text": [
      "hello world\n"
     ]
    }
   ],
   "source": [
    "mystring = \"hello world.\"\n",
    "# 去掉尾部的英文. 符号\n",
    "print(mystring.strip(\".\"))"
   ]
  },
  {
   "cell_type": "code",
   "execution_count": 13,
   "metadata": {},
   "outputs": [
    {
     "name": "stdout",
     "output_type": "stream",
     "text": [
      "True\n"
     ]
    }
   ],
   "source": [
    "mystring = \"hello world\"\n",
    "# 检查字符串是否以hello开头\n",
    "print(mystring.startswith(\"hello\"))"
   ]
  },
  {
   "cell_type": "code",
   "execution_count": 14,
   "metadata": {},
   "outputs": [
    {
     "name": "stdout",
     "output_type": "stream",
     "text": [
      "True\n"
     ]
    }
   ],
   "source": [
    "mystring = \"hello world\"\n",
    "# 检查字符串是否以world结尾\n",
    "print(mystring.endswith(\"world\"))"
   ]
  },
  {
   "cell_type": "code",
   "execution_count": 15,
   "metadata": {},
   "outputs": [
    {
     "name": "stdout",
     "output_type": "stream",
     "text": [
      "True\n"
     ]
    }
   ],
   "source": [
    "\"\"\"\n",
    "刚才举的例子 以world结尾，其实还有实际的例子，比如我们要判断一个文件是否为PNG图片格式，或者是否为ROI结尾的文件\n",
    "\"\"\"\n",
    "filename = \"唐轩.roi\"\n",
    "print(filename.endswith(\".roi\"))"
   ]
  },
  {
   "cell_type": "code",
   "execution_count": null,
   "metadata": {},
   "outputs": [],
   "source": [
    "# 字符串的格式化\n",
    "\n",
    "\"\"\"\n",
    "字符串的格式化操作，很多内容还会涉及到 “关系运算符”，所以这里就不过多叙述，等咱们到了那一章，且听我给你吹，哦不对，给你说😜\n",
    "\"\"\""
   ]
  }
 ],
 "metadata": {
  "kernelspec": {
   "display_name": "Python 3",
   "language": "python",
   "name": "python3"
  },
  "language_info": {
   "codemirror_mode": {
    "name": "ipython",
    "version": 3
   },
   "file_extension": ".py",
   "mimetype": "text/x-python",
   "name": "python",
   "nbconvert_exporter": "python",
   "pygments_lexer": "ipython3",
   "version": "3.7.3"
  }
 },
 "nbformat": 4,
 "nbformat_minor": 2
}

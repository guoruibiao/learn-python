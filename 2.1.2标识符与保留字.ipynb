{
 "cells": [
  {
   "cell_type": "code",
   "execution_count": 1,
   "metadata": {},
   "outputs": [],
   "source": [
    "# 标识符（变量命名）\n",
    "\n",
    "\"\"\"\n",
    "好奇吗？变量是什么？\n",
    "\n",
    "想想现实世界中，郭老师是谁？简单来看有这么一个公式：\n",
    "\n",
    "郭老师 = 某一个人\n",
    "\n",
    "而在程序的世界中，一个变量就代指  存在于计算机上某一个位置的  值。我们暂且可以先不考虑这个值是怎么存储在电脑上的，\n",
    "也不用管是以什么方式来存储的，就只需要知道，我们只要看到了这个变量的名字，就能找得到它就可以啦。\n",
    "\"\"\"\n",
    "\n",
    "\n",
    "\"\"\"\n",
    "给一个变量命名，是一件让人很苦恼的事情。有的人喜欢用拼音，有的人喜欢用英文单词，甚至有的人喜欢混合着用。这对于写代码的人\n",
    "来说可能无伤大雅，但是对于阅读你代码的人，遇到这样的情形，那可真的是让人头大。\n",
    "\n",
    "\n",
    "在Python语言中，对一个变量的命名有蛮多的限制的，我这里简单列举下：\n",
    "\n",
    "1. 变量名只能是：字母、数字、下划线的组合\n",
    "2. 变量名不可以以数字开头  比如   7abc 就是一个错误的变量名❌ 而abc7 a7bc abc_7这些都是合法的变量命名\n",
    "3. 变量名区分大小写       比如   abc和ABC是不一样的\n",
    "\n",
    "\n",
    "其他比如以下划线开头的变量名是有特殊意义的这些内容，咱们暂且先不管，随它去吧😝\n",
    "\n",
    "来瞅几个合法的变量名吧。\n",
    "\n",
    "\"\"\"\n",
    "who     = \"you\"\n",
    "_is     = \"are\"\n",
    "little  = \"a\"\n",
    "MISS    = \"cute\"\n",
    "Li      = \"girl\"\n"
   ]
  },
  {
   "cell_type": "code",
   "execution_count": null,
   "metadata": {},
   "outputs": [],
   "source": [
    "# 保留字\n",
    "\n",
    "\"\"\"\n",
    "上面写了如何给一个变量命名，但是忘记了说一条很重要的信息，那就是有些单词不能随便乱用，因为这些单词已经被Python给预定了。\n",
    "\n",
    "毕竟人家是先来的，我们就不要插队了。下面来看看哪些单词不能随意使用吧。\n",
    "\n",
    "\n",
    "and            exec         not\n",
    "assert         finally      or\n",
    "break          for          pass\n",
    "class          from         print\n",
    "continue       global       raise\n",
    "def            if           return\n",
    "del            import       try\n",
    "elif           in           while\n",
    "else           is           with\n",
    "except         lambda       yield\n",
    "\"\"\""
   ]
  },
  {
   "cell_type": "code",
   "execution_count": null,
   "metadata": {},
   "outputs": [],
   "source": [
    "\"\"\"\n",
    "然后这节也就没了，虽然看起来内容不是很多。但是以后写代码的时候，这些都是要注意的地方，所以要写到前面，还是蛮重要的呢。\n",
    "\"\"\""
   ]
  }
 ],
 "metadata": {
  "kernelspec": {
   "display_name": "Python 3",
   "language": "python",
   "name": "python3"
  },
  "language_info": {
   "codemirror_mode": {
    "name": "ipython",
    "version": 3
   },
   "file_extension": ".py",
   "mimetype": "text/x-python",
   "name": "python",
   "nbconvert_exporter": "python",
   "pygments_lexer": "ipython3",
   "version": "3.7.3"
  }
 },
 "nbformat": 4,
 "nbformat_minor": 2
}

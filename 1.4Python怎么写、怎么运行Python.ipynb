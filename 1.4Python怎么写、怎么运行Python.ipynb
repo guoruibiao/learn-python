{
 "cells": [
  {
   "cell_type": "code",
   "execution_count": null,
   "metadata": {},
   "outputs": [],
   "source": [
    "\"\"\"\n",
    "可能现在的你还对Python没什么感觉，那现在咱们就实地学一下，Python要怎么写、要怎么运行。\n",
    "\n",
    "接下来会列举下常见的Python运行方法，睁大眼睛哦😯\n",
    "\n",
    "1. 命令行里直接写\n",
    "2. 命令行执行一个python文件\n",
    "3. IDE（PyCharm）里编写和运行python\n",
    "\"\"\"\n"
   ]
  },
  {
   "cell_type": "code",
   "execution_count": null,
   "metadata": {},
   "outputs": [],
   "source": [
    "\"\"\"\n",
    "1. 命令行里直接写\n",
    "\n",
    "可能现在的你对命令行这三个字有点陌生，但相信慢慢地你就对它很熟练了。接下来我们看看怎么打开命令行。\n",
    "\"\"\""
   ]
  },
  {
   "cell_type": "code",
   "execution_count": 6,
   "metadata": {},
   "outputs": [
    {
     "data": {
      "text/html": [
       "<img src=\"images/1.4.1-terminal.jpg\">\n",
       "<img src=\"images/1.4.2-terminal.jpg\">\n",
       "<img src=\"images/1.4.3-terminal.jpg\">"
      ],
      "text/plain": [
       "<IPython.core.display.HTML object>"
      ]
     },
     "metadata": {},
     "output_type": "display_data"
    }
   ],
   "source": [
    "%%html\n",
    "<img src=\"images/1.4.1-terminal.jpg\">\n",
    "<img src=\"images/1.4.2-terminal.jpg\">\n",
    "<img src=\"images/1.4.3-terminal.jpg\">"
   ]
  },
  {
   "cell_type": "code",
   "execution_count": null,
   "metadata": {},
   "outputs": [],
   "source": [
    "\"\"\"\n",
    "到这一步，你就学会了第一种写Python代码的方法啦，接下来咱们看看第二种执行python代码的方法。\n",
    "\n",
    "2. 命令行执行一个python文件\n",
    "\n",
    "在学习编程的时候，常常会有人扔给我们一个后缀名是“.py”的文件，让我们去执行，这就正好是我们要讲的场景。\n",
    "\n",
    "比如现在郭老师写了一个名字叫 “1-hello.py”的Python文件，里面的内容就一行\n",
    "\n",
    "print(\"Hello World.\")\n",
    "\"\"\""
   ]
  },
  {
   "cell_type": "code",
   "execution_count": 7,
   "metadata": {},
   "outputs": [
    {
     "data": {
      "text/html": [
       "<img src=\"images/1.4.4-helloworld.py.jpg\" />"
      ],
      "text/plain": [
       "<IPython.core.display.HTML object>"
      ]
     },
     "metadata": {},
     "output_type": "display_data"
    }
   ],
   "source": [
    "%%html\n",
    "<img src=\"images/1.4.4-helloworld.py.jpg\" />"
   ]
  },
  {
   "cell_type": "code",
   "execution_count": null,
   "metadata": {},
   "outputs": [],
   "source": [
    "\"\"\"\n",
    "我们就可以这么来运行:\n",
    "\n",
    "python 1-hello.py\n",
    "\"\"\""
   ]
  },
  {
   "cell_type": "code",
   "execution_count": 8,
   "metadata": {},
   "outputs": [
    {
     "name": "stdout",
     "output_type": "stream",
     "text": [
      "Hello World.\n"
     ]
    }
   ],
   "source": [
    "%%bash\n",
    "python3 1-hello.py"
   ]
  },
  {
   "cell_type": "code",
   "execution_count": null,
   "metadata": {},
   "outputs": [],
   "source": [
    "\"\"\"\n",
    "额，我们还是来看图吧，这样印象更加深刻一点。如下：\n",
    "\"\"\""
   ]
  },
  {
   "cell_type": "code",
   "execution_count": 9,
   "metadata": {},
   "outputs": [
    {
     "data": {
      "text/html": [
       "<img src=\"images/1.4.5-run-helloworld.jpg\" />"
      ],
      "text/plain": [
       "<IPython.core.display.HTML object>"
      ]
     },
     "metadata": {},
     "output_type": "display_data"
    }
   ],
   "source": [
    "%%html\n",
    "<img src=\"images/1.4.5-run-helloworld.jpg\" />"
   ]
  },
  {
   "cell_type": "code",
   "execution_count": null,
   "metadata": {},
   "outputs": [],
   "source": [
    "\"\"\"\n",
    "这就是第二种运行python代码的方法啦，接下来还有最后一个我们最常用的。\n",
    "\n",
    "3. IDE（PyCharm）里编写和运行python，不多说，看图就好啦。\n",
    "\"\"\""
   ]
  },
  {
   "cell_type": "code",
   "execution_count": 11,
   "metadata": {},
   "outputs": [
    {
     "data": {
      "text/html": [
       "<img src=\"images/1.4.6-ide-run.gif\" />"
      ],
      "text/plain": [
       "<IPython.core.display.HTML object>"
      ]
     },
     "metadata": {},
     "output_type": "display_data"
    }
   ],
   "source": [
    "%%html\n",
    "<img src=\"images/1.4.6-ide-run.gif\" />"
   ]
  },
  {
   "cell_type": "code",
   "execution_count": null,
   "metadata": {},
   "outputs": [],
   "source": [
    "\"\"\"\n",
    "好了，到这里学习python需要的基础内容就算是整理完毕了。\n",
    "\n",
    "下一节开始，我们将正式开始学习Python了，是不是很激动😜\n",
    "\"\"\""
   ]
  }
 ],
 "metadata": {
  "kernelspec": {
   "display_name": "Python 3",
   "language": "python",
   "name": "python3"
  },
  "language_info": {
   "codemirror_mode": {
    "name": "ipython",
    "version": 3
   },
   "file_extension": ".py",
   "mimetype": "text/x-python",
   "name": "python",
   "nbconvert_exporter": "python",
   "pygments_lexer": "ipython3",
   "version": "3.7.3"
  }
 },
 "nbformat": 4,
 "nbformat_minor": 2
}

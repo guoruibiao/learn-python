{
 "cells": [
  {
   "cell_type": "code",
   "execution_count": 1,
   "metadata": {},
   "outputs": [
    {
     "name": "stdout",
     "output_type": "stream",
     "text": [
      "{'name': 'Miss Li', 'age': 24, 'address': '学院路38号'}\n"
     ]
    }
   ],
   "source": [
    "# 字典数据类型\n",
    "\n",
    "\"\"\"\n",
    "类比现实世界中的手机通讯录，一个人名总会对应有一个手机号。Python中的字典数据类型也是如此，以 key: value的形式存在。\n",
    "\n",
    "一个人名（在Python中称之为key）对应一个手机号（在Python中称之为value）。key一般来说是唯一的，而value则可以重复。\n",
    "\n",
    "创建一个字典变量，我们会使用 {key1: value1, key2:value2, ...} 这种形式，下面我们看个实际的例子。\n",
    "\"\"\"\n",
    "\n",
    "mydictionary = {\"name\": \"Miss Li\", \"age\": 24, \"address\": \"学院路38号\"}\n",
    "print(mydictionary)"
   ]
  },
  {
   "cell_type": "code",
   "execution_count": 4,
   "metadata": {},
   "outputs": [
    {
     "name": "stdout",
     "output_type": "stream",
     "text": [
      "{'name': '薛定谔的🐶', 'age': 25, 'address': '北京市朝阳区左家庄街道曙光里社区', 123456789: 'value', ('hello', 'world'): 'value的数据类型没有限制'}\n"
     ]
    }
   ],
   "source": [
    "\"\"\"\n",
    "需要注意的是，key的数据类型可以是：字符串类型、数值型、元组类型。value的数据类型则是任意的。\n",
    "\"\"\"\n",
    "mydictionary = {\"name\": \"薛定谔的🐶\", \"age\": 25, \"address\": \"北京市朝阳区左家庄街道曙光里社区\",\n",
    "                123456789:\"value\",  (\"hello\", \"world\"):\"value的数据类型没有限制\"}\n",
    "print(mydictionary)"
   ]
  },
  {
   "cell_type": "code",
   "execution_count": 5,
   "metadata": {},
   "outputs": [
    {
     "name": "stdout",
     "output_type": "stream",
     "text": [
      "12345678\n"
     ]
    }
   ],
   "source": [
    "# 访问字典中的值\n",
    "\n",
    "\"\"\"\n",
    "就好比是查一个人的手机号，我们只需要知道这个人的名字，然后告诉“通讯录（也就是Python解释器）”，说：我要查“张三”的手机号，你查出来给我吧。\n",
    "\"\"\"\n",
    "mydictionary = {\"张三\": 12345678, \"李四\": \"这是李四的手机号\", \"王五\": \"158323343434343\"}\n",
    "print(mydictionary[\"张三\"])"
   ]
  },
  {
   "cell_type": "code",
   "execution_count": 7,
   "metadata": {},
   "outputs": [
    {
     "ename": "KeyError",
     "evalue": "'赵六'",
     "output_type": "error",
     "traceback": [
      "\u001b[0;31m---------------------------------------------------------------------------\u001b[0m",
      "\u001b[0;31mKeyError\u001b[0m                                  Traceback (most recent call last)",
      "\u001b[0;32m<ipython-input-7-d1bd16ab95cf>\u001b[0m in \u001b[0;36m<module>\u001b[0;34m()\u001b[0m\n\u001b[1;32m      3\u001b[0m \"\"\"\n\u001b[1;32m      4\u001b[0m \u001b[0mmydictionary\u001b[0m \u001b[0;34m=\u001b[0m \u001b[0;34m{\u001b[0m\u001b[0;34m\"张三\"\u001b[0m\u001b[0;34m:\u001b[0m \u001b[0;36m12345678\u001b[0m\u001b[0;34m,\u001b[0m \u001b[0;34m\"李四\"\u001b[0m\u001b[0;34m:\u001b[0m \u001b[0;34m\"这是李四的手机号\"\u001b[0m\u001b[0;34m,\u001b[0m \u001b[0;34m\"王五\"\u001b[0m\u001b[0;34m:\u001b[0m \u001b[0;34m\"158323343434343\"\u001b[0m\u001b[0;34m}\u001b[0m\u001b[0;34m\u001b[0m\u001b[0;34m\u001b[0m\u001b[0m\n\u001b[0;32m----> 5\u001b[0;31m \u001b[0mprint\u001b[0m\u001b[0;34m(\u001b[0m\u001b[0mmydictionary\u001b[0m\u001b[0;34m[\u001b[0m\u001b[0;34m\"赵六\"\u001b[0m\u001b[0;34m]\u001b[0m\u001b[0;34m)\u001b[0m\u001b[0;34m\u001b[0m\u001b[0;34m\u001b[0m\u001b[0m\n\u001b[0m",
      "\u001b[0;31mKeyError\u001b[0m: '赵六'"
     ]
    }
   ],
   "source": [
    "\"\"\"\n",
    "试想一下， 通讯录中没有一个叫”赵六“的人名，我们非要从通讯录查，会输出什么呢？\n",
    "\"\"\"\n",
    "mydictionary = {\"张三\": 12345678, \"李四\": \"这是李四的手机号\", \"王五\": \"158323343434343\"}\n",
    "print(mydictionary[\"赵六\"])"
   ]
  },
  {
   "cell_type": "code",
   "execution_count": null,
   "metadata": {},
   "outputs": [],
   "source": [
    "\"\"\"\n",
    "可以看出，程序报错了。因为它也找不到叫“赵六”的这个人的手机号。\n",
    "\n",
    "因此，在通过字典查询某一个key的值的时候，我们需要注意一下，避免查找不存在的key。\n",
    "\"\"\""
   ]
  },
  {
   "cell_type": "code",
   "execution_count": 6,
   "metadata": {},
   "outputs": [
    {
     "name": "stdout",
     "output_type": "stream",
     "text": [
      "{'张三': 12345678, '李四': '李四的新手机号', '王五': '158323343434343'}\n"
     ]
    }
   ],
   "source": [
    "# 修改字典中的值\n",
    "\n",
    "\"\"\"\n",
    "李四换了手机好了，我们需要及时把新的手机号更新到通讯录中。\n",
    "\"\"\"\n",
    "mydictionary = {\"张三\": 12345678, \"李四\": \"这是李四的手机号\", \"王五\": \"158323343434343\"}\n",
    "mydictionary[\"李四\"] = \"李四的新手机号\"\n",
    "print(mydictionary)"
   ]
  },
  {
   "cell_type": "code",
   "execution_count": 8,
   "metadata": {},
   "outputs": [
    {
     "name": "stdout",
     "output_type": "stream",
     "text": [
      "{'李四': '这是李四的手机号', '王五': '158323343434343'}\n"
     ]
    }
   ],
   "source": [
    "# 删除字典中的值\n",
    "\n",
    "\"\"\"\n",
    "再来举一个不太恰当的例子，张三活到了108岁，寿终正寝。手机号也没啥用处了，现在打算从通讯录中删掉这个手机号。\n",
    "\"\"\"\n",
    "mydictionary = {\"张三\": 12345678, \"李四\": \"这是李四的手机号\", \"王五\": \"158323343434343\"}\n",
    "del mydictionary[\"张三\"]\n",
    "print(mydictionary)"
   ]
  },
  {
   "cell_type": "code",
   "execution_count": 9,
   "metadata": {},
   "outputs": [
    {
     "ename": "KeyError",
     "evalue": "'赵六'",
     "output_type": "error",
     "traceback": [
      "\u001b[0;31m---------------------------------------------------------------------------\u001b[0m",
      "\u001b[0;31mKeyError\u001b[0m                                  Traceback (most recent call last)",
      "\u001b[0;32m<ipython-input-9-52b38ec4820a>\u001b[0m in \u001b[0;36m<module>\u001b[0;34m()\u001b[0m\n\u001b[1;32m      3\u001b[0m \"\"\"\n\u001b[1;32m      4\u001b[0m \u001b[0mmydictionary\u001b[0m \u001b[0;34m=\u001b[0m \u001b[0;34m{\u001b[0m\u001b[0;34m\"张三\"\u001b[0m\u001b[0;34m:\u001b[0m \u001b[0;36m12345678\u001b[0m\u001b[0;34m,\u001b[0m \u001b[0;34m\"李四\"\u001b[0m\u001b[0;34m:\u001b[0m \u001b[0;34m\"这是李四的手机号\"\u001b[0m\u001b[0;34m,\u001b[0m \u001b[0;34m\"王五\"\u001b[0m\u001b[0;34m:\u001b[0m \u001b[0;34m\"158323343434343\"\u001b[0m\u001b[0;34m}\u001b[0m\u001b[0;34m\u001b[0m\u001b[0;34m\u001b[0m\u001b[0m\n\u001b[0;32m----> 5\u001b[0;31m \u001b[0;32mdel\u001b[0m \u001b[0mmydictionary\u001b[0m\u001b[0;34m[\u001b[0m\u001b[0;34m\"赵六\"\u001b[0m\u001b[0;34m]\u001b[0m\u001b[0;34m\u001b[0m\u001b[0;34m\u001b[0m\u001b[0m\n\u001b[0m\u001b[1;32m      6\u001b[0m \u001b[0mprint\u001b[0m\u001b[0;34m(\u001b[0m\u001b[0mmydictionary\u001b[0m\u001b[0;34m)\u001b[0m\u001b[0;34m\u001b[0m\u001b[0;34m\u001b[0m\u001b[0m\n",
      "\u001b[0;31mKeyError\u001b[0m: '赵六'"
     ]
    }
   ],
   "source": [
    "\"\"\"\n",
    "这样，我们就成功删除了字典中的某个key啦。接着咱们再试试删除下”赵六“，通讯录中本来就没有赵六，看看删除的时候会不会报错吧。\n",
    "\"\"\"\n",
    "mydictionary = {\"张三\": 12345678, \"李四\": \"这是李四的手机号\", \"王五\": \"158323343434343\"}\n",
    "del mydictionary[\"赵六\"]\n",
    "print(mydictionary)"
   ]
  },
  {
   "cell_type": "code",
   "execution_count": null,
   "metadata": {},
   "outputs": [],
   "source": [
    "\"\"\"\n",
    "这个错误是不是很眼熟。为什么错误的内容这么相似呢？\n",
    "\n",
    "因为删除的时候，Python需要查一下，要删除谁。查的过程就回到了上文中，”查找一个不存在的key“的问题，然后就从那里报错啦。\n",
    "\"\"\""
   ]
  },
  {
   "cell_type": "code",
   "execution_count": 10,
   "metadata": {},
   "outputs": [
    {
     "data": {
      "text/plain": [
       "['__class__',\n",
       " '__contains__',\n",
       " '__delattr__',\n",
       " '__delitem__',\n",
       " '__dir__',\n",
       " '__doc__',\n",
       " '__eq__',\n",
       " '__format__',\n",
       " '__ge__',\n",
       " '__getattribute__',\n",
       " '__getitem__',\n",
       " '__gt__',\n",
       " '__hash__',\n",
       " '__init__',\n",
       " '__init_subclass__',\n",
       " '__iter__',\n",
       " '__le__',\n",
       " '__len__',\n",
       " '__lt__',\n",
       " '__ne__',\n",
       " '__new__',\n",
       " '__reduce__',\n",
       " '__reduce_ex__',\n",
       " '__repr__',\n",
       " '__setattr__',\n",
       " '__setitem__',\n",
       " '__sizeof__',\n",
       " '__str__',\n",
       " '__subclasshook__',\n",
       " 'clear',\n",
       " 'copy',\n",
       " 'fromkeys',\n",
       " 'get',\n",
       " 'items',\n",
       " 'keys',\n",
       " 'pop',\n",
       " 'popitem',\n",
       " 'setdefault',\n",
       " 'update',\n",
       " 'values']"
      ]
     },
     "execution_count": 10,
     "metadata": {},
     "output_type": "execute_result"
    }
   ],
   "source": [
    "# 字典中的方法\n",
    "\n",
    "\"\"\"\n",
    "又回到了熟悉的环节，上面的几个小节中，我们分别看了字符串类型、列表类型、元组类型中包含的方法，今天我们来看看 字典数据类型\n",
    "中都包含有哪些好用的方法吧。\n",
    "\n",
    "还是借助 dir(dictionary_name) 这个函数，让它帮我们罗列一下。\n",
    "\"\"\"\n",
    "mydictionary = {\"name\": \"tiger\"}\n",
    "dir(mydictionary)"
   ]
  },
  {
   "cell_type": "code",
   "execution_count": 11,
   "metadata": {},
   "outputs": [
    {
     "name": "stdout",
     "output_type": "stream",
     "text": [
      "dict_keys(['张三', '李四', '王五'])\n"
     ]
    }
   ],
   "source": [
    "# 获取字典中所有的key\n",
    "\n",
    "mydictionary = {\"张三\": 12345678, \"李四\": \"这是李四的手机号\", \"王五\": \"158323343434343\"}\n",
    "print(mydictionary.keys())"
   ]
  },
  {
   "cell_type": "code",
   "execution_count": 12,
   "metadata": {},
   "outputs": [
    {
     "name": "stdout",
     "output_type": "stream",
     "text": [
      "dict_values([12345678, '这是李四的手机号', '158323343434343'])\n"
     ]
    }
   ],
   "source": [
    "# 获取字段中所有的value\n",
    "mydictionary = {\"张三\": 12345678, \"李四\": \"这是李四的手机号\", \"王五\": \"158323343434343\"}\n",
    "print(mydictionary.values())"
   ]
  },
  {
   "cell_type": "code",
   "execution_count": 13,
   "metadata": {},
   "outputs": [
    {
     "name": "stdout",
     "output_type": "stream",
     "text": [
      "{}\n"
     ]
    }
   ],
   "source": [
    "# 清空字典\n",
    "mydictionary = {\"张三\": 12345678, \"李四\": \"这是李四的手机号\", \"王五\": \"158323343434343\"}\n",
    "mydictionary.clear()\n",
    "print(mydictionary)"
   ]
  },
  {
   "cell_type": "code",
   "execution_count": null,
   "metadata": {},
   "outputs": [],
   "source": [
    "\"\"\"\n",
    "最后我们来回顾一下关于 字典数据类型的知识。\n",
    "\n",
    "创建字典 {key: value, ...}\n",
    "获取某个key的值 dictionary[\"key_name\"]\n",
    "更新某个key的值 dictionary[\"key_name\"] = \"新的值\"\n",
    "删除某个key    del dictionary[\"key_name\"]\n",
    "\n",
    "其余的方法，我们暂时先不去管了。等以后用到的时候，我们自然就会用了。\n",
    "\"\"\""
   ]
  }
 ],
 "metadata": {
  "kernelspec": {
   "display_name": "Python 3",
   "language": "python",
   "name": "python3"
  },
  "language_info": {
   "codemirror_mode": {
    "name": "ipython",
    "version": 3
   },
   "file_extension": ".py",
   "mimetype": "text/x-python",
   "name": "python",
   "nbconvert_exporter": "python",
   "pygments_lexer": "ipython3",
   "version": "3.7.3"
  }
 },
 "nbformat": 4,
 "nbformat_minor": 2
}

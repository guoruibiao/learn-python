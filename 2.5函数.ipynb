{
 "cells": [
  {
   "cell_type": "code",
   "execution_count": null,
   "metadata": {},
   "outputs": [],
   "source": [
    "# 函数\n",
    "\n",
    "\"\"\"\n",
    "Python里的函数，实际上我们可以理解为一个组织好的，可重复使用的，用来实现单一，或相关联功能的代码段。\n",
    "\n",
    "我们前面其实已经用过好多个函数了，还有印象吗？\n",
    "\n",
    "    print()  打印一个变量的值\n",
    "    len()    计算一个列表、元组、字典或者字符串的长度\n",
    "    ...\n",
    "    \n",
    "下面看下一个函数长什么样：\n",
    "\n",
    "    def functionname( parameters ):\n",
    "       \"随便写点代码\"\n",
    "       \n",
    "       # return 语句可有可无，如果需要将函数的计算结果返回，那咱就加return；不需要返回，这一行就可以忽略掉。\n",
    "       return [expression]\n",
    "    \n",
    "\"\"\"\n",
    "\n",
    "def hi(name):\n",
    "    print(\"你好，\", name)\n",
    "    \n",
    "# 如果函数体内什么都不想写，还可以用一个关键字进行处理，那就是 pass\n",
    "\n",
    "def hi(name, age):\n",
    "    pass\n"
   ]
  },
  {
   "cell_type": "code",
   "execution_count": 1,
   "metadata": {},
   "outputs": [
    {
     "name": "stdout",
     "output_type": "stream",
     "text": [
      "常规感冒，医药费： 30\n",
      "感冒咳嗽，医药费： 50\n",
      "感冒咳嗽发烧，医药费： 70\n"
     ]
    }
   ],
   "source": [
    "# 函数调用\n",
    "\n",
    "\"\"\"\n",
    "函数写好了，为的就是在其他地方方便的调用。比如我现在知道某个病人的症状，我只需要向计算机输入一下药方的名称，计算机就会按照设定的步骤，处理完。\n",
    "把处理结果反馈给我们。\n",
    "\n",
    "这个获取结果的过程，就可以理解为函数调用。比如我们接下来写一个计算医药费的函数。\n",
    "\"\"\"\n",
    "def compute(prescription):\n",
    "    money = 0\n",
    "    if prescription == \"常规感冒\":\n",
    "        money = money +  30\n",
    "    elif prescription == \"感冒咳嗽\":\n",
    "        money = money + 50\n",
    "    elif prescription == \"感冒咳嗽发烧\":\n",
    "        money = money + 70\n",
    "    else:\n",
    "        pass\n",
    "    # 把药价返回给调用方\n",
    "    return money\n",
    "\n",
    "# 患者一 普通感冒\n",
    "money = compute(\"常规感冒\")\n",
    "print(\"常规感冒，医药费：\", money)\n",
    "\n",
    "# 患者二 感冒咳嗽\n",
    "money = compute(\"感冒咳嗽\")\n",
    "print(\"感冒咳嗽，医药费：\", money)\n",
    "\n",
    "# 患者三 感冒咳嗽发烧\n",
    "money = compute(\"感冒咳嗽发烧\")\n",
    "print(\"感冒咳嗽发烧，医药费：\", money)"
   ]
  },
  {
   "cell_type": "code",
   "execution_count": null,
   "metadata": {},
   "outputs": [],
   "source": [
    "# 参数传递 \n",
    "\n",
    "\"\"\"\n",
    "Python 中关于参数的部分是个比较大的内容。比如有下面几个类型：\n",
    "\n",
    "  1. 必备参数\n",
    "  2. 关键字参数\n",
    "  3. 默认参数\n",
    "  4. 不定长参数\n",
    "  \n",
    "接下来我们一个个来学习下，这些参数都是怎么被使用的吧。\n",
    "\"\"\""
   ]
  },
  {
   "cell_type": "code",
   "execution_count": 2,
   "metadata": {},
   "outputs": [
    {
     "name": "stdout",
     "output_type": "stream",
     "text": [
      "你好呀， Miss Li\n"
     ]
    },
    {
     "ename": "TypeError",
     "evalue": "hi() missing 1 required positional argument: 'name'",
     "output_type": "error",
     "traceback": [
      "\u001b[0;31m---------------------------------------------------------------------------\u001b[0m",
      "\u001b[0;31mTypeError\u001b[0m                                 Traceback (most recent call last)",
      "\u001b[0;32m<ipython-input-2-772232d24d07>\u001b[0m in \u001b[0;36m<module>\u001b[0;34m()\u001b[0m\n\u001b[1;32m     11\u001b[0m \u001b[0;34m\u001b[0m\u001b[0m\n\u001b[1;32m     12\u001b[0m \u001b[0;31m#不传参数\u001b[0m\u001b[0;34m\u001b[0m\u001b[0;34m\u001b[0m\u001b[0;34m\u001b[0m\u001b[0m\n\u001b[0;32m---> 13\u001b[0;31m \u001b[0mhi\u001b[0m\u001b[0;34m(\u001b[0m\u001b[0;34m)\u001b[0m\u001b[0;34m\u001b[0m\u001b[0;34m\u001b[0m\u001b[0m\n\u001b[0m",
      "\u001b[0;31mTypeError\u001b[0m: hi() missing 1 required positional argument: 'name'"
     ]
    }
   ],
   "source": [
    "# 1. 必备参数\n",
    "\n",
    "\"\"\"\n",
    "顾名思义，必备参数就是调用的时候必须要传给函数的参数，不传的话程序就报错啦\n",
    "\"\"\"\n",
    "def hi(name):\n",
    "    print(\"你好呀，\", name)\n",
    "    \n",
    "# 传了参数\n",
    "hi(\"Miss Li\")\n",
    "\n",
    "#不传参数\n",
    "hi()"
   ]
  },
  {
   "cell_type": "code",
   "execution_count": 5,
   "metadata": {},
   "outputs": [
    {
     "name": "stdout",
     "output_type": "stream",
     "text": [
      "hello， tiger  here is  北京\n"
     ]
    }
   ],
   "source": [
    "# 2. 关键字参数\n",
    "\n",
    "\"\"\"\n",
    "什么是关键字呢？\n",
    "\n",
    "关键字的意思就是：”指名道姓“。也就是传递参数的时候，在调用处指明 xxx参数的值是yyy。\n",
    "\n",
    "下面我们来看个例子吧。\n",
    "\"\"\"\n",
    "def hi(name, address):\n",
    "    print(\"hello，\", name, \" here is \", address)\n",
    "\n",
    "hi(name=\"tiger\", address=\"北京\")"
   ]
  },
  {
   "cell_type": "code",
   "execution_count": 6,
   "metadata": {},
   "outputs": [
    {
     "name": "stdout",
     "output_type": "stream",
     "text": [
      "hello， 薛定谔的🐶  here is  北京\n"
     ]
    }
   ],
   "source": [
    "\"\"\"\n",
    "调用关键字参数的函数，参数的顺序有要求吗？我们一起来看下吧。\n",
    "\"\"\"\n",
    "def hi(name, address):\n",
    "    print(\"hello，\", name, \" here is \", address)\n",
    "\n",
    "hi(address=\"北京\", name=\"薛定谔的🐶\")"
   ]
  },
  {
   "cell_type": "code",
   "execution_count": 9,
   "metadata": {},
   "outputs": [
    {
     "name": "stdout",
     "output_type": "stream",
     "text": [
      "hello， 北京  here is  薛定谔的🐶\n",
      "hello， 薛定谔的🐶  here is  北京\n"
     ]
    }
   ],
   "source": [
    "\"\"\"\n",
    "可以看到，只要是“指名道姓”了，参数的顺序就没有固定的要求。不写关键字的话，Python默认按照参数顺序进行调用。\n",
    "这也是Python好用的一个体现，对程序员是不是很友好？\n",
    "\"\"\"\n",
    "def hi(name, address):\n",
    "    print(\"hello，\", name, \" here is \", address)\n",
    "\n",
    "hi(\"北京\", \"薛定谔的🐶\")\n",
    "\n",
    "hi(\"薛定谔的🐶\", \"北京\")"
   ]
  },
  {
   "cell_type": "code",
   "execution_count": 3,
   "metadata": {},
   "outputs": [
    {
     "name": "stdout",
     "output_type": "stream",
     "text": [
      "Help on built-in function sort:\n",
      "\n",
      "sort(*, key=None, reverse=False) method of builtins.list instance\n",
      "    Stable sort *IN PLACE*.\n",
      "\n"
     ]
    }
   ],
   "source": [
    "# 3. 默认参数\n",
    "\n",
    "\"\"\"\n",
    "咱们之前学习列表数据类型的时候，了解到sort这个方法有一个叫reverse的参数。我们不传这个参数的时候，Python默认使用了reverse=False。\n",
    "\n",
    "我们传递了reverse=True的时候，它就变成降序排列的了。\n",
    "\n",
    "默认参数的意思就是，你传给我了，那我用你的；你要是不传给我，那我就用定义的时候默认的\n",
    "\"\"\"\n",
    "help([].sort)"
   ]
  },
  {
   "cell_type": "code",
   "execution_count": 7,
   "metadata": {},
   "outputs": [
    {
     "name": "stdout",
     "output_type": "stream",
     "text": [
      "Hi  薛定谔的🐶 , i am from  上海 . Here is  深圳\n",
      "Hi  薛定谔的🐶 , i am from  纽约 . Here is  北京\n"
     ]
    }
   ],
   "source": [
    "\"\"\"\n",
    "从帮助文档上我们看到，只要指定reverse的值，就可以控制sort是升序排列，还是降序排列。\n",
    "\n",
    "接下来我们自己也写一个带有关键字参数的函数，来体验一把吧。\n",
    "\"\"\"\n",
    "def hi(name, comefrom=\"北京\", address=\"深圳\"):\n",
    "    print(\"Hi \", name, \", i am from \", comefrom, \". Here is \", address)\n",
    "\n",
    "# 按照函数定义的参数顺序进行传递 \n",
    "hi(\"薛定谔的🐶\", comefrom=\"上海\")\n",
    "\n",
    "# 参数顺序也没有额外的要求哦\n",
    "hi(\"薛定谔的🐶\", address=\"北京\", comefrom=\"纽约\")"
   ]
  },
  {
   "cell_type": "code",
   "execution_count": 8,
   "metadata": {},
   "outputs": [
    {
     "name": "stdout",
     "output_type": "stream",
     "text": [
      "Hi  郭老师 , i am from  重庆 . Here is  深圳\n",
      "Hi  郭老师 , i am from  北京 . Here is  曼彻斯特\n"
     ]
    }
   ],
   "source": [
    "\"\"\"\n",
    "因为name是必备参数（就因为它没有默认值哈，所以它就是必备参数了）。下面我们除了name，其他参数不传试试。看看有什么现象。\n",
    "\"\"\"\n",
    "def hi(name, comefrom=\"北京\", address=\"深圳\"):\n",
    "    print(\"Hi \", name, \", i am from \", comefrom, \". Here is \", address)\n",
    "\n",
    "# 传name和comefrom两个参数\n",
    "hi(\"郭老师\", comefrom=\"重庆\")\n",
    "\n",
    "# 传name和address两个参数\n",
    "hi(\"郭老师\", address=\"曼彻斯特\")"
   ]
  },
  {
   "cell_type": "code",
   "execution_count": 10,
   "metadata": {},
   "outputs": [
    {
     "name": "stdout",
     "output_type": "stream",
     "text": [
      "Hi  name参数 , i am from  comefrom参数 . Here is  address参数\n",
      "Hi  name参数 , i am from  address参数 . Here is  comefrom参数\n"
     ]
    }
   ],
   "source": [
    "\"\"\"\n",
    "试想一下，我们不指定参数名称，是不是会像”关键字参数“那样，按照函数定义时候的顺序进行调用呢？\n",
    "\"\"\"\n",
    "def hi(name, comefrom=\"北京\", address=\"深圳\"):\n",
    "    print(\"Hi \", name, \", i am from \", comefrom, \". Here is \", address)\n",
    "\n",
    "hi(\"name参数\", \"comefrom参数\", \"address参数\")\n",
    "\n",
    "hi(\"name参数\", \"address参数\", \"comefrom参数\")"
   ]
  },
  {
   "cell_type": "code",
   "execution_count": 21,
   "metadata": {},
   "outputs": [
    {
     "ename": "SyntaxError",
     "evalue": "non-default argument follows default argument (<ipython-input-21-bae185b86aaa>, line 4)",
     "output_type": "error",
     "traceback": [
      "\u001b[0;36m  File \u001b[0;32m\"<ipython-input-21-bae185b86aaa>\"\u001b[0;36m, line \u001b[0;32m4\u001b[0m\n\u001b[0;31m    def hi(name, age=23, address):\u001b[0m\n\u001b[0m          ^\u001b[0m\n\u001b[0;31mSyntaxError\u001b[0m\u001b[0;31m:\u001b[0m non-default argument follows default argument\n"
     ]
    }
   ],
   "source": [
    "\"\"\"\n",
    "还有个需要注意的点是，默认参数不能放到必备参数前。比如下面的例子是错误的。\n",
    "\"\"\"\n",
    "def hi(name, age=23, address):\n",
    "    print(\"name    =\", name)\n",
    "    print(\"age     =\", age)\n",
    "    print(\"address =\", address)\n",
    "\n"
   ]
  },
  {
   "cell_type": "code",
   "execution_count": 12,
   "metadata": {},
   "outputs": [
    {
     "name": "stdout",
     "output_type": "stream",
     "text": [
      "传递过来的参数为： (1, 2, 3, 4, 5)\n",
      "传递过来的参数为： ('asdasd', 'HELLO', 23213232)\n"
     ]
    }
   ],
   "source": [
    "# 4. 不定长参数\n",
    "\n",
    "\"\"\"\n",
    "不定长参数，比较有意思。顾名思义，我们定义了不定长参数的函数，在调用的时候，可以传递无限个参数给它。\n",
    "\n",
    "一般我们不怎么会用到这个特性，但是用到了的时候需要知道是怎么回事哦。它有两种模式：\n",
    "\n",
    "    1. *args       尽管传递过来，会被以 元组 的形式解析\n",
    "    2. **kwargs    以key=value形式传递过来， 会被函数以 字典 的形式解析\n",
    "\"\"\"\n",
    "def hi(*args):\n",
    "    print(\"传递过来的参数为：\", args)\n",
    "\n",
    "hi(1, 2, 3, 4, 5)\n",
    "\n",
    "hi(\"asdasd\", \"HELLO\", 23213232)"
   ]
  },
  {
   "cell_type": "code",
   "execution_count": 13,
   "metadata": {},
   "outputs": [
    {
     "name": "stdout",
     "output_type": "stream",
     "text": [
      "传递过来的参数为： {'name': '郭璞', 'age': 25, 'school': '大连理工大学'}\n",
      "传递过来的参数为： {'scores': [99, 89, 85], 'happy': True}\n"
     ]
    }
   ],
   "source": [
    "def hi(**kwargs):\n",
    "    print(\"传递过来的参数为：\", kwargs)\n",
    "\n",
    "hi(name=\"郭璞\", age=25, school=\"大连理工大学\")\n",
    "\n",
    "hi(scores=[99, 89, 85], happy=True)"
   ]
  },
  {
   "cell_type": "code",
   "execution_count": 14,
   "metadata": {},
   "outputs": [
    {
     "name": "stdout",
     "output_type": "stream",
     "text": [
      "args=   ('参数1', '参数2')\n",
      "kwargs= {'name': '郭璞', 'age': 25, 'address': '北京'}\n"
     ]
    }
   ],
   "source": [
    "def hi(*args, **kwargs):\n",
    "    print(\"args=  \", args)\n",
    "    print(\"kwargs=\", kwargs)\n",
    "\n",
    "# key=value形式的参数都被扔到了kwargs中，剩下的被扔到了args中\n",
    "hi(\"参数1\", \"参数2\", name=\"郭璞\", age=25, address=\"北京\")"
   ]
  },
  {
   "cell_type": "code",
   "execution_count": 19,
   "metadata": {
    "scrolled": true
   },
   "outputs": [
    {
     "ename": "SyntaxError",
     "evalue": "positional argument follows keyword argument (<ipython-input-19-00185b25c830>, line 12)",
     "output_type": "error",
     "traceback": [
      "\u001b[0;36m  File \u001b[0;32m\"<ipython-input-19-00185b25c830>\"\u001b[0;36m, line \u001b[0;32m12\u001b[0m\n\u001b[0;31m    hi(\"郭璞\", age=24, \"随便写的参数1\", \"随便写的参数2\", address=\"北京市朝阳区左家庄街道曙光里社区\", school=\"大连理工大学\")\u001b[0m\n\u001b[0m                        ^\u001b[0m\n\u001b[0;31mSyntaxError\u001b[0m\u001b[0;31m:\u001b[0m positional argument follows keyword argument\n"
     ]
    }
   ],
   "source": [
    "# 进阶部分 \n",
    "\n",
    "\"\"\"\n",
    "下面看下，掺杂了上面这几种参数的情形，看看Python是怎么处理的吧。\n",
    "\"\"\"\n",
    "def hi(name, age=25, *args, **kwargs):\n",
    "    print(\"name  =\", name)\n",
    "    print(\"age   =\", age)\n",
    "    print(\"args  =\", args)\n",
    "    print(\"kwargs=\", kwargs)\n",
    "\n",
    "hi(\"郭璞\", age=24, \"随便写的参数1\", \"随便写的参数2\", address=\"北京市朝阳区左家庄街道曙光里社区\", school=\"大连理工大学\")"
   ]
  },
  {
   "cell_type": "code",
   "execution_count": 20,
   "metadata": {},
   "outputs": [
    {
     "name": "stdout",
     "output_type": "stream",
     "text": [
      "name  = 郭璞\n",
      "age   = 24\n",
      "args  = ('随便写的参数1', '随便写的参数2')\n",
      "kwargs= {'address': '北京市朝阳区左家庄街道曙光里社区', 'school': '大连理工大学'}\n"
     ]
    }
   ],
   "source": [
    "\"\"\"\n",
    "提示我们不可以这么调用，因为位置参数挨着关键字参数了\n",
    "\"\"\"\n",
    "def hi(name, age=25, *args, **kwargs):\n",
    "    print(\"name  =\", name)\n",
    "    print(\"age   =\", age)\n",
    "    print(\"args  =\", args)\n",
    "    print(\"kwargs=\", kwargs)\n",
    "\n",
    "hi(\"郭璞\", 24, \"随便写的参数1\", \"随便写的参数2\", address=\"北京市朝阳区左家庄街道曙光里社区\", school=\"大连理工大学\")"
   ]
  },
  {
   "cell_type": "code",
   "execution_count": null,
   "metadata": {},
   "outputs": [],
   "source": [
    "\"\"\"\n",
    "从这里我们不难猜出，为什么Python会这么设置。因为如果参数位置乱放的话，Python也不知道咱们到底是怎么传递的，于是\n",
    "\n",
    "  1. 用args去兜底 ”必备“参数格式的参数\n",
    "  2. 用kwargs去兜底 ”关键字”格式的参数。\n",
    "  \n",
    "好啦，基本上对函数这块，了解到这里就可以了。今后我们还会书写很多很多的函数，到时候你肯定会领悟到这些内容的。\n",
    "\"\"\""
   ]
  }
 ],
 "metadata": {
  "kernelspec": {
   "display_name": "Python 3",
   "language": "python",
   "name": "python3"
  },
  "language_info": {
   "codemirror_mode": {
    "name": "ipython",
    "version": 3
   },
   "file_extension": ".py",
   "mimetype": "text/x-python",
   "name": "python",
   "nbconvert_exporter": "python",
   "pygments_lexer": "ipython3",
   "version": "3.7.3"
  }
 },
 "nbformat": 4,
 "nbformat_minor": 2
}

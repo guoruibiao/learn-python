{
 "cells": [
  {
   "cell_type": "code",
   "execution_count": null,
   "metadata": {},
   "outputs": [],
   "source": [
    "# 函数\n",
    "\n",
    "\"\"\"\n",
    "Python里的函数，实际上我们可以理解为一个组织好的，可重复使用的，用来实现单一，或相关联功能的代码段。\n",
    "\n",
    "我们前面其实已经用过好多个函数了，还有印象吗？\n",
    "\n",
    "    print()  打印一个变量的值\n",
    "    len()    计算一个列表、元组、字典或者字符串的长度\n",
    "    ...\n",
    "    \n",
    "下面看下一个函数长什么样：\n",
    "\n",
    "    def functionname( parameters ):\n",
    "       \"随便写点代码\"\n",
    "       \n",
    "       # return 语句可有可无，如果需要将函数的计算结果返回，那咱就加return；不需要返回，这一行就可以忽略掉。\n",
    "       return [expression]\n",
    "    \n",
    "\"\"\"\n",
    "\n",
    "def hi(name):\n",
    "    print(\"你好，\", name)\n",
    "    \n",
    "# 如果函数体内什么都不想写，还可以用一个关键字进行处理，那就是 pass\n",
    "\n",
    "def hi(name, age):\n",
    "    pass\n"
   ]
  },
  {
   "cell_type": "code",
   "execution_count": 1,
   "metadata": {},
   "outputs": [
    {
     "name": "stdout",
     "output_type": "stream",
     "text": [
      "常规感冒，医药费： 30\n",
      "感冒咳嗽，医药费： 50\n",
      "感冒咳嗽发烧，医药费： 70\n"
     ]
    }
   ],
   "source": [
    "# 函数调用\n",
    "\n",
    "\"\"\"\n",
    "函数写好了，为的就是在其他地方方便的调用。比如我现在知道某个病人的症状，我只需要向计算机输入一下药方的名称，计算机就会按照设定的步骤，处理完。\n",
    "把处理结果反馈给我们。\n",
    "\n",
    "这个获取结果的过程，就可以理解为函数调用。比如我们接下来写一个计算医药费的函数。\n",
    "\"\"\"\n",
    "def compute(prescription):\n",
    "    money = 0\n",
    "    if prescription == \"常规感冒\":\n",
    "        money = money +  30\n",
    "    elif prescription == \"感冒咳嗽\":\n",
    "        money = money + 50\n",
    "    elif prescription == \"感冒咳嗽发烧\":\n",
    "        money = money + 70\n",
    "    else:\n",
    "        pass\n",
    "    # 把药价返回给调用方\n",
    "    return money\n",
    "\n",
    "# 患者一 普通感冒\n",
    "money = compute(\"常规感冒\")\n",
    "print(\"常规感冒，医药费：\", money)\n",
    "\n",
    "# 患者二 感冒咳嗽\n",
    "money = compute(\"感冒咳嗽\")\n",
    "print(\"感冒咳嗽，医药费：\", money)\n",
    "\n",
    "# 患者三 感冒咳嗽发烧\n",
    "money = compute(\"感冒咳嗽发烧\")\n",
    "print(\"感冒咳嗽发烧，医药费：\", money)"
   ]
  },
  {
   "cell_type": "code",
   "execution_count": null,
   "metadata": {},
   "outputs": [],
   "source": [
    "# 参数传递 \n",
    "\n",
    "\"\"\"\n",
    "Python 中关于参数的部分是个比较大的内容。比如有下面几个类型：\n",
    "\n",
    "  1. 必备参数\n",
    "  2. 关键字参数\n",
    "  3. 默认参数\n",
    "  4. 不定长参数\n",
    "  \n",
    "接下来我们一个个来学习下，这些参数都是怎么被使用的吧。\n",
    "\"\"\""
   ]
  }
 ],
 "metadata": {
  "kernelspec": {
   "display_name": "Python 3",
   "language": "python",
   "name": "python3"
  },
  "language_info": {
   "codemirror_mode": {
    "name": "ipython",
    "version": 3
   },
   "file_extension": ".py",
   "mimetype": "text/x-python",
   "name": "python",
   "nbconvert_exporter": "python",
   "pygments_lexer": "ipython3",
   "version": "3.7.3"
  }
 },
 "nbformat": 4,
 "nbformat_minor": 2
}

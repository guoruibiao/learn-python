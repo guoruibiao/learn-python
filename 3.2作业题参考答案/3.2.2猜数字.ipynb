{
 "cells": [
  {
   "cell_type": "code",
   "execution_count": 7,
   "metadata": {},
   "outputs": [
    {
     "name": "stdout",
     "output_type": "stream",
     "text": [
      "请输入您猜测的数字：56\n",
      "哎哟，偏小了呢，猜一个大点的数吧。\n",
      "请输入您猜测的数字：100\n",
      "哎哟，偏大了呢，猜一个小点的数吧。\n",
      "请输入您猜测的数字：78\n",
      "哎哟，偏大了呢，猜一个小点的数吧。\n",
      "请输入您猜测的数字：60\n",
      "哎哟，偏大了呢，猜一个小点的数吧。\n",
      "请输入您猜测的数字：57\n",
      "哎哟，偏小了呢，猜一个大点的数吧。\n",
      "请输入您猜测的数字：58\n",
      "Congratulations， 您猜对啦。\n",
      "系统本次生成的随机数是： 58 , 您的猜测次数： 6\n"
     ]
    }
   ],
   "source": [
    "# 引入 random 包\n",
    "import random\n",
    "\n",
    "# 预先生成一个1-100以内的整数随机数\n",
    "random_number = random.randint(1, 100)\n",
    "\n",
    "# 通过 input() 函数获取输入的值,但是这个值是字符串类型，我们要用 int()  函数将其转换成整数类型\n",
    "guess_number = 0\n",
    "while True:\n",
    "    number = input(\"请输入您猜测的数字：\")\n",
    "    number = int(number)\n",
    "    guess_number = guess_number + 1\n",
    "    if number == random_number:\n",
    "        print(\"Congratulations， 您猜对啦。\")\n",
    "        break\n",
    "    elif number > random_number:\n",
    "        print(\"哎哟，偏大了呢，猜一个小点的数吧。\")\n",
    "    else:\n",
    "        # 一个数和另一个数作比较，只会存在三种情况：等于、大于、小于\n",
    "        print(\"哎哟，偏小了呢，猜一个大点的数吧。\")\n",
    "\n",
    "# 循环结束了，输出一下总共猜测了几次。\n",
    "print(\"系统本次生成的随机数是：\", random_number, \", 您的猜测次数：\", guess_number)"
   ]
  },
  {
   "cell_type": "code",
   "execution_count": null,
   "metadata": {},
   "outputs": [],
   "source": []
  }
 ],
 "metadata": {
  "kernelspec": {
   "display_name": "Python 3",
   "language": "python",
   "name": "python3"
  },
  "language_info": {
   "codemirror_mode": {
    "name": "ipython",
    "version": 3
   },
   "file_extension": ".py",
   "mimetype": "text/x-python",
   "name": "python",
   "nbconvert_exporter": "python",
   "pygments_lexer": "ipython3",
   "version": "3.7.3"
  }
 },
 "nbformat": 4,
 "nbformat_minor": 2
}

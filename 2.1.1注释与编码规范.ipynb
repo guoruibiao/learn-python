{
 "cells": [
  {
   "cell_type": "code",
   "execution_count": null,
   "metadata": {},
   "outputs": [],
   "source": [
    "\"\"\"\n",
    "从这一节开始我们正式进入Python语言的学习了。按我自己的理解，不管是什么语言，大致都会经过这样的步骤：\n",
    "\n",
    "1. 熟悉语法\n",
    "2. 不断练习\n",
    "3. 应用与提高\n",
    "\n",
    "想想你的英语是不是这样过来的？所以不要慌，编程语言没你想象的那么难，只要多写多练，肯定会没问题的。\n",
    "\n",
    "\n",
    "如题，本文会讲述Python语言中的注释和编码规范是什么样的，内容特别简单，相信你也可以一下子就学会了。\n",
    "\"\"\""
   ]
  },
  {
   "cell_type": "code",
   "execution_count": null,
   "metadata": {},
   "outputs": [],
   "source": [
    "# 注释部分"
   ]
  },
  {
   "cell_type": "code",
   "execution_count": null,
   "metadata": {},
   "outputs": [],
   "source": [
    "\"\"\"\n",
    "Python语言中的注释有两种方式：\n",
    "\n",
    "1. 单行注释\n",
    "2. 多行注释\n",
    "\"\"\""
   ]
  },
  {
   "cell_type": "code",
   "execution_count": null,
   "metadata": {},
   "outputs": [],
   "source": [
    "# 单行注释\n",
    "\"\"\"\n",
    "任何以 # 字符开头的行，都会作为注释存在，代码不会被运行\n",
    "\n",
    "举例：\n",
    "# 这里的文字是注释部分\n",
    "print(\"hello world.\") # 这里是注释 print(\"hello world.\")\n",
    "\n",
    "\n",
    "上面那俩`print(\"hello world.\")`，第一个是可以被执行到的，而第二个因为位于#字符的后面，所以被当成了注释内容，因此不会被执行。\n",
    "\"\"\""
   ]
  },
  {
   "cell_type": "code",
   "execution_count": null,
   "metadata": {},
   "outputs": [],
   "source": [
    "# 多行注释\n",
    "\n",
    "\"\"\"\n",
    "在Python中，如果不嫌麻烦，可以在每一行的开头部分都写上# 这样也是一种多行注释的体现。\n",
    "\n",
    "当然了，这样写也不是很美观，而且改动起来也比较麻烦，所以我们一般都会采取第二个写法，那就是连续的6个单引号（也可以是双引号）。\n",
    "\n",
    "1. 连续3个单引号\n",
    "'''\n",
    "这里全是注释内容，就算是写了代码也不会执行，但我们通常会随便写点解释性的语言方便别人阅读自己的代码。\n",
    "'''\n",
    "\n",
    "\n",
    "\"\"\"\n",
    "\n",
    "'''\n",
    "2. 连续3个双引号\n",
    "\"\"\"\n",
    "这里面也是注释部分，可以随便写点什么。\n",
    "\"\"\"\n",
    "\n",
    "\n",
    "从上面这两个例子中我们可以看出，单引号内可以包裹很多个双引号，双引号内也可以包裹很多单引号。\n",
    "但是单引号中最好别写单引号，双引号中也别写太多双引号，要不注释看起来也不太好看不说，还很容易出错。\n",
    "\n",
    "\n",
    "\n",
    "'''"
   ]
  },
  {
   "cell_type": "code",
   "execution_count": null,
   "metadata": {},
   "outputs": [],
   "source": [
    "# 编码规范部分\n",
    "\n",
    "\"\"\"\n",
    "一说到规范，让人联想到的可能就是长篇大论式很冗杂的内容。你说重要吧，其他书啊，博客啊也没说太多；你说不重要吧，平时写代码还都用得到。\n",
    "\n",
    "所以这个东西，还是得先了解一下。\n",
    "\"\"\""
   ]
  },
  {
   "cell_type": "code",
   "execution_count": 1,
   "metadata": {},
   "outputs": [
    {
     "ename": "IndentationError",
     "evalue": "unexpected indent (<ipython-input-1-ac550b05d8e7>, line 7)",
     "output_type": "error",
     "traceback": [
      "\u001b[0;36m  File \u001b[0;32m\"<ipython-input-1-ac550b05d8e7>\"\u001b[0;36m, line \u001b[0;32m7\u001b[0m\n\u001b[0;31m    d = 3 + 4\u001b[0m\n\u001b[0m    ^\u001b[0m\n\u001b[0;31mIndentationError\u001b[0m\u001b[0;31m:\u001b[0m unexpected indent\n"
     ]
    }
   ],
   "source": [
    "# 缩进问题\n",
    "\"\"\"\n",
    "不同的公司，不同的人可能有不同的表现，但是为了写出更美观的代码，我们用4个空格作为行与行之间的缩进。\n",
    "\n",
    "比如行与行之间代码缩进不一致，就会报错，代码是没法运行的，举例如下：\n",
    "\"\"\"\n",
    "\n",
    "a = 1 + 2\n",
    "    b = 3 + 4\n",
    "print(a)\n",
    "print(b)"
   ]
  },
  {
   "cell_type": "code",
   "execution_count": 2,
   "metadata": {},
   "outputs": [
    {
     "name": "stdout",
     "output_type": "stream",
     "text": [
      "3\n",
      "7\n"
     ]
    }
   ],
   "source": [
    "a = 1 + 2\n",
    "b = 3 + 4\n",
    "print(a)\n",
    "print(b)"
   ]
  },
  {
   "cell_type": "code",
   "execution_count": null,
   "metadata": {},
   "outputs": [],
   "source": [
    "# 语句结尾没有分号\n",
    "\"\"\"\n",
    "很多编程语言，一行结尾，都会以 ; 符号表示本行代码结束啦\n",
    "\n",
    "但是在python语言中，一行代码结束了，不能写;符号。举例如下：\n",
    "\n",
    "print(\"Hello world.\") ✅\n",
    "print(\"Hello world.\"); ❌\n",
    "\"\"\""
   ]
  },
  {
   "cell_type": "code",
   "execution_count": null,
   "metadata": {},
   "outputs": [],
   "source": [
    "# 括号问题\n",
    "\"\"\"\n",
    "和其他的编程语言不一样的是，在Python中 函数、流程控制语句的末尾不是 { 符号，而是 :\n",
    "\n",
    "比如很常见的在C语言中，一段函数通常会这么写：\n",
    "\n",
    "void printString() {\n",
    "    println(\"hello world.\");\n",
    "}\n",
    "\n",
    "而在Python中，我们通常会这么写:\n",
    "\"\"\"\n",
    "\n",
    "def printString():\n",
    "    print(\"hello world.\")\n",
    "    "
   ]
  },
  {
   "cell_type": "code",
   "execution_count": null,
   "metadata": {},
   "outputs": [],
   "source": [
    "\"\"\"\n",
    "好啦，这节先了解这么多。这个进度还行不😜\n",
    "\"\"\""
   ]
  }
 ],
 "metadata": {
  "kernelspec": {
   "display_name": "Python 3",
   "language": "python",
   "name": "python3"
  },
  "language_info": {
   "codemirror_mode": {
    "name": "ipython",
    "version": 3
   },
   "file_extension": ".py",
   "mimetype": "text/x-python",
   "name": "python",
   "nbconvert_exporter": "python",
   "pygments_lexer": "ipython3",
   "version": "3.7.3"
  }
 },
 "nbformat": 4,
 "nbformat_minor": 2
}
